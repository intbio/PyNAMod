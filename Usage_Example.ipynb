{
 "cells": [
  {
   "cell_type": "markdown",
   "id": "39c0292f-788a-4e0a-9553-1894a4ff59b5",
   "metadata": {
    "jp-MarkdownHeadingCollapsed": true,
    "tags": []
   },
   "source": [
    "### PyNAMod\n",
    "1) Получение огрубленных моделей структур ДНК, генерация линейных ДНК, объединение моделей.\n",
    "2) Исследование конформаций с помощью моделирования методом Монте Карло."
   ]
  },
  {
   "cell_type": "markdown",
   "id": "8f210608-e579-45b2-84f2-25f561688391",
   "metadata": {
    "tags": []
   },
   "source": [
    "![alt text](params.png \"Title\")"
   ]
  },
  {
   "cell_type": "markdown",
   "id": "98ae41a7-6658-41d5-9aea-17736d1b4e71",
   "metadata": {
    "jp-MarkdownHeadingCollapsed": true,
    "tags": []
   },
   "source": [
    "### Установка\n",
    "https://github.com/intbio/PyNAMod \\\n",
    "Создание окружения:\\\n",
    "conda env create --file environment.yml"
   ]
  },
  {
   "cell_type": "markdown",
   "id": "7abd52c7-00e3-410b-8186-cbf8357ae18d",
   "metadata": {},
   "source": [
    "### Анализ полноатомоных моделей"
   ]
  },
  {
   "cell_type": "code",
   "execution_count": 1,
   "id": "732bea3f-1955-47b9-b77f-4e79ce4724a3",
   "metadata": {
    "tags": []
   },
   "outputs": [
    {
     "name": "stderr",
     "output_type": "stream",
     "text": [
      "/home/v_vasilev/.conda/envs/pynamod_env/lib/python3.11/site-packages/ipywidgets/widgets/widget.py:503: DeprecationWarning: The `ipykernel.comm.Comm` class has been deprecated. Please use the `comm` module instead.For creating comms, use the function `from comm import create_comm`.\n",
      "  self.comm = Comm(**args)\n",
      "/home/v_vasilev/.conda/envs/pynamod_env/lib/python3.11/site-packages/ipywidgets/widgets/widget.py:503: DeprecationWarning: The `ipykernel.comm.Comm` class has been deprecated. Please use the `comm` module instead.For creating comms, use the function `from comm import create_comm`.\n",
      "  self.comm = Comm(**args)\n"
     ]
    },
    {
     "data": {
      "application/vnd.jupyter.widget-view+json": {
       "model_id": "6f53799efe9947d286c63a93c5abdf84",
       "version_major": 2,
       "version_minor": 0
      },
      "text/plain": []
     },
     "metadata": {},
     "output_type": "display_data"
    },
    {
     "name": "stderr",
     "output_type": "stream",
     "text": [
      "/home/v_vasilev/.conda/envs/pynamod_env/lib/python3.11/site-packages/Bio/Application/__init__.py:40: BiopythonDeprecationWarning: The Bio.Application modules and modules relying on it have been deprecated.\n",
      "\n",
      "Due to the on going maintenance burden of keeping command line application\n",
      "wrappers up to date, we have decided to deprecate and eventually remove these\n",
      "modules.\n",
      "\n",
      "We instead now recommend building your command line and invoking it directly\n",
      "with the subprocess module.\n",
      "  warnings.warn(\n",
      "/home/v_vasilev/.conda/envs/pynamod_env/lib/python3.11/site-packages/MDAnalysis/topology/PDBParser.py:331: UserWarning: Element information is missing, elements attribute will not be populated. If needed these can be guessed using MDAnalysis.topology.guessers.\n",
      "  warnings.warn(\"Element information is missing, elements attribute \"\n"
     ]
    }
   ],
   "source": [
    "import pynamod\n",
    "import torch"
   ]
  },
  {
   "cell_type": "code",
   "execution_count": 2,
   "id": "e2028ad1-8606-4d0e-835f-4fc5f9db7d03",
   "metadata": {
    "tags": []
   },
   "outputs": [],
   "source": [
    "import warnings\n",
    "warnings.filterwarnings('ignore')"
   ]
  },
  {
   "cell_type": "code",
   "execution_count": 16,
   "id": "241950f1-87aa-4a59-bebc-6dce3de31a0e",
   "metadata": {
    "tags": []
   },
   "outputs": [
    {
     "name": "stdout",
     "output_type": "stream",
     "text": [
      "Sending GET request to https://files.rcsb.org/download/3LZ0.pdb to fetch 3LZ0's pdb file as a string.\n"
     ]
    }
   ],
   "source": [
    "# Инициализация с помощью объекта mda Universe, pdb файла или pdb id\n",
    "nucl = pynamod.CG_Structure(pdb_id='3LZ0')"
   ]
  },
  {
   "cell_type": "markdown",
   "id": "b64c14f5-a5d1-42c5-8d05-5a18c605c89d",
   "metadata": {},
   "source": [
    "Получение геометрических параметров"
   ]
  },
  {
   "cell_type": "code",
   "execution_count": 17,
   "id": "1a70d9c6-d1fa-4b2b-a782-27c6d287e283",
   "metadata": {},
   "outputs": [],
   "source": [
    "nucl.analyze_dna(leading_strands=['I'])"
   ]
  },
  {
   "cell_type": "markdown",
   "id": "82a53bf3-806b-4c80-ab94-907f1eadeb46",
   "metadata": {},
   "source": [
    "Получение огрубленной модели белка"
   ]
  },
  {
   "cell_type": "code",
   "execution_count": 18,
   "id": "09ea64cf-07b8-4bb1-81f1-89478ad15c57",
   "metadata": {
    "tags": []
   },
   "outputs": [],
   "source": [
    "nucl.analyze_protein()"
   ]
  },
  {
   "cell_type": "markdown",
   "id": "d1eedd53-27ab-47a8-8054-34bce3c9c469",
   "metadata": {},
   "source": [
    "Визуализация"
   ]
  },
  {
   "cell_type": "code",
   "execution_count": 6,
   "id": "39956d41-8128-4778-9f03-445494e912d0",
   "metadata": {
    "tags": []
   },
   "outputs": [
    {
     "data": {
      "application/vnd.jupyter.widget-view+json": {
       "model_id": "74396bed680248e89d07a9e24385813a",
       "version_major": 2,
       "version_minor": 0
      },
      "text/plain": [
       "NGLWidget()"
      ]
     },
     "metadata": {},
     "output_type": "display_data"
    }
   ],
   "source": [
    "# Перемещение первой пары в начало координат\n",
    "nucl.dna.move_to_coord_center()\n",
    "\n",
    "nucl.view_structure()"
   ]
  },
  {
   "cell_type": "markdown",
   "id": "51c5fd44-b472-48ff-97a0-7a29fd56880e",
   "metadata": {
    "tags": []
   },
   "source": [
    "### Генерация линейной ДНК"
   ]
  },
  {
   "cell_type": "code",
   "execution_count": 19,
   "id": "d48bd311-9481-4b38-b6db-f598d2d8a55b",
   "metadata": {},
   "outputs": [],
   "source": [
    "seq = 'atcg'*2\n",
    "dna_gen = pynamod.CG_Structure()\n",
    "dna_gen.build_dna(seq)"
   ]
  },
  {
   "cell_type": "code",
   "execution_count": 8,
   "id": "626145aa-dd86-4f28-a4f6-04a38d603b54",
   "metadata": {
    "tags": []
   },
   "outputs": [
    {
     "data": {
      "application/vnd.jupyter.widget-view+json": {
       "model_id": "a78744b1d31f49d0a1adae7143802d47",
       "version_major": 2,
       "version_minor": 0
      },
      "text/plain": [
       "NGLWidget()"
      ]
     },
     "metadata": {},
     "output_type": "display_data"
    }
   ],
   "source": [
    "dna_gen.view_structure()\n"
   ]
  },
  {
   "cell_type": "code",
   "execution_count": 30,
   "id": "92ae3517-5470-4a32-a3bc-87a0f8888308",
   "metadata": {
    "tags": []
   },
   "outputs": [
    {
     "ename": "AttributeError",
     "evalue": "'CG_Structure' object has no attribute 'h'",
     "output_type": "error",
     "traceback": [
      "\u001b[0;31m---------------------------------------------------------------------------\u001b[0m",
      "\u001b[0;31mAttributeError\u001b[0m                            Traceback (most recent call last)",
      "Cell \u001b[0;32mIn[30], line 1\u001b[0m\n\u001b[0;32m----> 1\u001b[0m dna_gen\u001b[38;5;241m.\u001b[39mh\n",
      "\u001b[0;31mAttributeError\u001b[0m: 'CG_Structure' object has no attribute 'h'"
     ]
    }
   ],
   "source": [
    "dna_gen.h"
   ]
  },
  {
   "cell_type": "markdown",
   "id": "0469e816-f8df-44e6-9d2e-96317f6934ec",
   "metadata": {},
   "source": [
    "### Объединение структур"
   ]
  },
  {
   "cell_type": "markdown",
   "id": "589bc9cc-caeb-4a96-9bc2-b101ebef335d",
   "metadata": {},
   "source": [
    "Инициализация стурктуры с белком cas9"
   ]
  },
  {
   "cell_type": "code",
   "execution_count": 24,
   "id": "68912c83-d4dc-4e34-b152-336368e4c40b",
   "metadata": {
    "tags": []
   },
   "outputs": [
    {
     "name": "stdout",
     "output_type": "stream",
     "text": [
      "Sending GET request to https://files.rcsb.org/download/5Y36.pdb to fetch 5Y36's pdb file as a string.\n"
     ]
    }
   ],
   "source": [
    "cas = pynamod.CG_Structure(pdb_id='5Y36')\n",
    "cas.analyze_dna(leading_strands=['C'],sel='segid C D')"
   ]
  },
  {
   "cell_type": "code",
   "execution_count": 25,
   "id": "8008f220-033f-4b75-9fb0-a22bb402b517",
   "metadata": {
    "tags": []
   },
   "outputs": [],
   "source": [
    "cas.analyze_protein()"
   ]
  },
  {
   "cell_type": "code",
   "execution_count": 26,
   "id": "f1dbc03f-bdce-4b9c-803c-08de4620090e",
   "metadata": {
    "tags": []
   },
   "outputs": [
    {
     "data": {
      "application/vnd.jupyter.widget-view+json": {
       "model_id": "7cd01af753a9462ebbb2d6f16b5a3d86",
       "version_major": 2,
       "version_minor": 0
      },
      "text/plain": [
       "NGLWidget()"
      ]
     },
     "metadata": {},
     "output_type": "display_data"
    }
   ],
   "source": [
    "cas.view_structure()"
   ]
  },
  {
   "cell_type": "markdown",
   "id": "9f077a22-4878-43f8-a459-a8d2e60f8d6e",
   "metadata": {
    "tags": []
   },
   "source": [
    "Объединение с нуклеосомой и линейной ДНК"
   ]
  },
  {
   "cell_type": "code",
   "execution_count": 22,
   "id": "63bd2914-b57f-4c72-b5df-a667c585fc2f",
   "metadata": {
    "tags": []
   },
   "outputs": [
    {
     "data": {
      "text/plain": [
       "<pynamod.structures.CG_structure.CG_Structure at 0x7f6b1bcfd050>"
      ]
     },
     "execution_count": 22,
     "metadata": {},
     "output_type": "execute_result"
    }
   ],
   "source": [
    "nucl.append_structures([dna_gen,cas])"
   ]
  },
  {
   "cell_type": "code",
   "execution_count": 28,
   "id": "5115630a-648e-46d9-8813-30c158c3bba7",
   "metadata": {
    "tags": []
   },
   "outputs": [],
   "source": [
    "nucl.dna.step_params[10] = torch.ones(6)*100"
   ]
  },
  {
   "cell_type": "code",
   "execution_count": 29,
   "id": "5fbc6526-c629-41e7-8f37-8d8410fa65a8",
   "metadata": {
    "tags": []
   },
   "outputs": [
    {
     "data": {
      "application/vnd.jupyter.widget-view+json": {
       "model_id": "750cd1ecdc314a96ab0e746b6ee96ebe",
       "version_major": 2,
       "version_minor": 0
      },
      "text/plain": [
       "NGLWidget()"
      ]
     },
     "metadata": {},
     "output_type": "display_data"
    }
   ],
   "source": [
    "nucl.view_structure()"
   ]
  },
  {
   "cell_type": "code",
   "execution_count": null,
   "id": "a0f38b36-8354-438f-afd8-3aaa971765cf",
   "metadata": {},
   "outputs": [],
   "source": []
  },
  {
   "cell_type": "markdown",
   "id": "9cb95899-b50e-423a-b4bb-a5b6b85128fd",
   "metadata": {},
   "source": [
    "### Моделирование методом Монте-Карло"
   ]
  },
  {
   "cell_type": "markdown",
   "id": "e90a302f-11a3-40aa-ba70-91ba8521cfb7",
   "metadata": {},
   "source": [
    "Подготовка расчетов энергий"
   ]
  },
  {
   "cell_type": "code",
   "execution_count": 58,
   "id": "cdfc1559-4f33-409d-a9d7-af1b641ece5f",
   "metadata": {
    "tags": []
   },
   "outputs": [],
   "source": [
    "import torch\n",
    "import numpy as np"
   ]
  },
  {
   "cell_type": "code",
   "execution_count": 63,
   "id": "d52c33e6-4428-4673-847b-a7d91409cb57",
   "metadata": {
    "tags": []
   },
   "outputs": [],
   "source": [
    "en = pynamod.Energy()\n",
    "\n",
    "# Инициализация матриц силовых констант\n",
    "nucl.move_to_torch()\n",
    "en.set_energy_matrices(nucl)"
   ]
  },
  {
   "cell_type": "markdown",
   "id": "468b7d77-ca9b-4907-8c1e-b6cec615431e",
   "metadata": {},
   "source": [
    "Полная энергия: энергия изгиба ДНК + энергия электростатических взаимодействий + энергия взаимодействия частиц (в виде потенциала Леннарда Джонса или сигмоиды)"
   ]
  },
  {
   "cell_type": "code",
   "execution_count": 64,
   "id": "e261cc74-14d5-4fe3-8eb1-10752f6aece9",
   "metadata": {
    "tags": []
   },
   "outputs": [
    {
     "data": {
      "text/plain": [
       "tensor(10760.6611)"
      ]
     },
     "execution_count": 64,
     "metadata": {},
     "output_type": "execute_result"
    }
   ],
   "source": [
    "en.get_full_energy(nucl)"
   ]
  },
  {
   "cell_type": "markdown",
   "id": "b64712cf-ad06-4911-a463-4141e931f56d",
   "metadata": {},
   "source": [
    "Генерация списка шагов, которые будут изменяться при моделирование"
   ]
  },
  {
   "cell_type": "code",
   "execution_count": 66,
   "id": "6d59c69f-9493-48d1-9415-af678b27a39f",
   "metadata": {
    "tags": []
   },
   "outputs": [],
   "source": [
    "movable_steps = torch.ones(nucl.steps_params.shape[0],dtype=bool)"
   ]
  },
  {
   "cell_type": "code",
   "execution_count": 67,
   "id": "5de7f23c-3287-4ff8-b49b-7b16cb7d72c5",
   "metadata": {
    "collapsed": true,
    "jupyter": {
     "outputs_hidden": true
    },
    "tags": []
   },
   "outputs": [
    {
     "data": {
      "text/plain": [
       "tensor([True, True, True, True, True, True, True, True, True, True, True, True,\n",
       "        True, True, True, True, True, True, True, True, True, True, True, True,\n",
       "        True, True, True, True, True, True, True, True, True, True, True, True,\n",
       "        True, True, True, True, True, True, True, True, True, True, True, True,\n",
       "        True, True, True, True, True, True, True, True, True, True, True, True,\n",
       "        True, True, True, True, True, True, True, True, True, True, True, True,\n",
       "        True, True, True, True, True, True, True, True, True, True, True, True,\n",
       "        True, True, True, True, True, True, True, True, True, True, True, True,\n",
       "        True, True, True, True, True, True, True, True, True, True, True, True,\n",
       "        True, True, True, True, True, True, True, True, True, True, True, True,\n",
       "        True, True, True, True, True, True, True, True, True, True, True, True,\n",
       "        True, True, True, True, True, True, True, True, True, True, True, True,\n",
       "        True])"
      ]
     },
     "execution_count": 67,
     "metadata": {},
     "output_type": "execute_result"
    }
   ],
   "source": [
    "movable_steps"
   ]
  },
  {
   "cell_type": "markdown",
   "id": "6ee254f9-bf4c-4f3c-973c-7e098c7c8f30",
   "metadata": {},
   "source": [
    "Запуск моделирования"
   ]
  },
  {
   "cell_type": "code",
   "execution_count": 68,
   "id": "81be0212-b976-4144-8a4e-7b09d728ab13",
   "metadata": {
    "tags": []
   },
   "outputs": [],
   "source": [
    "it = pynamod.Iterator(nucl,en)"
   ]
  },
  {
   "cell_type": "code",
   "execution_count": 69,
   "id": "c8521545-a0d7-4732-a007-bf01b729a345",
   "metadata": {
    "tags": []
   },
   "outputs": [
    {
     "data": {
      "application/vnd.jupyter.widget-view+json": {
       "model_id": "fcb87e7d266b4f849cf615f1da69d41e",
       "version_major": 2,
       "version_minor": 0
      },
      "text/plain": [
       "Steps:   0%|          | 0/1000000.0 [00:00<?, ?it/s]"
      ]
     },
     "metadata": {},
     "output_type": "display_data"
    },
    {
     "data": {
      "application/vnd.jupyter.widget-view+json": {
       "model_id": "1092227ae867477ca6802a63afa37eef",
       "version_major": 2,
       "version_minor": 0
      },
      "text/plain": [
       "Acceptance rate:   0%|          "
      ]
     },
     "metadata": {},
     "output_type": "display_data"
    },
    {
     "name": "stdout",
     "output_type": "stream",
     "text": [
      "target accepted steps reached\n",
      "accepted_steps 500\n"
     ]
    }
   ],
   "source": [
    "frames, energies = it.run(target_accepted_steps=500,movable_steps=movable_steps)"
   ]
  },
  {
   "cell_type": "code",
   "execution_count": null,
   "id": "48c36ec2-2c78-4df5-b1ee-099e8ea27b65",
   "metadata": {},
   "outputs": [],
   "source": [
    "frames"
   ]
  },
  {
   "cell_type": "markdown",
   "id": "b9350142-f8f5-4685-9cd9-5f7e8a2ed63e",
   "metadata": {
    "tags": []
   },
   "source": [
    "### Применение ограничений на взаимное положение пар ДНК"
   ]
  },
  {
   "cell_type": "markdown",
   "id": "00ebbde4-0dba-42f1-86d6-24ca38e3f7af",
   "metadata": {},
   "source": [
    "Для получения определенных конформаций структуры в расчет можно вводить ожидаемые геометрические параметры между любыми двумя парами ДНК"
   ]
  },
  {
   "cell_type": "code",
   "execution_count": 20,
   "id": "1ac3b9cb-dd82-41b0-bf37-853feb0a4dcc",
   "metadata": {
    "tags": []
   },
   "outputs": [],
   "source": [
    "from pynamod.external_forces.restraint import Restraint\n",
    "from pynamod.energy.energy_constants import BDNA_step\n",
    "from pynamod.geometry.bp_step_geometry import rebuild_by_full_par_frame_numba"
   ]
  },
  {
   "cell_type": "markdown",
   "id": "c1d245d1-4ca3-4103-8435-85223ab58732",
   "metadata": {},
   "source": [
    "Получение кольцевой ДНК из линейной"
   ]
  },
  {
   "cell_type": "code",
   "execution_count": 71,
   "id": "ec648420-5999-4da7-b14c-6e239d824059",
   "metadata": {
    "tags": []
   },
   "outputs": [],
   "source": [
    "# Индексы пар, на которые накладывается ограничение\n",
    "ind1,ind2 = 0, -1\n",
    "\n",
    "# Коэффицент этого ограничения в формуле полной энергии\n",
    "force_const = 500\n",
    "\n",
    "# Целевые геометрические параметры\n",
    "params = torch.Tensor(BDNA_step[6:])\n",
    "\n",
    "# Допустимое отклонение\n",
    "dev = torch.ones(1)*0.1\n",
    "\n",
    "# Инициализация\n",
    "restr = Restraint(ind1,ind2,force_const,params,dev)"
   ]
  },
  {
   "cell_type": "markdown",
   "id": "df334eab-2d47-4a5a-8fc5-3eb44e96be1b",
   "metadata": {},
   "source": [
    "Подготовка расчета энергии"
   ]
  },
  {
   "cell_type": "code",
   "execution_count": 72,
   "id": "7a93ca7e-5a6f-4817-870d-fc89d94de2fb",
   "metadata": {
    "tags": []
   },
   "outputs": [],
   "source": [
    "en_linear = pynamod.Energy()\n",
    "dna_gen.move_to_torch()\n",
    "en_linear.set_energy_matrices(dna_gen)\n",
    "en_linear.add_restraints([restr])"
   ]
  },
  {
   "cell_type": "code",
   "execution_count": 49,
   "id": "c9e99542-a92e-4bc8-b466-7a9039ad1de5",
   "metadata": {
    "tags": []
   },
   "outputs": [],
   "source": [
    "it = pynamod.Iterator(dna_gen,en_linear)\n",
    "movable_steps = torch.ones(dna_gen.steps_params.shape[0],dtype=bool)"
   ]
  },
  {
   "cell_type": "code",
   "execution_count": 50,
   "id": "9541cb9e-b3d7-47c3-b69f-b6ddf9852978",
   "metadata": {
    "tags": []
   },
   "outputs": [
    {
     "data": {
      "application/vnd.jupyter.widget-view+json": {
       "model_id": "02f0378a312d46f689a5a020fdcbfc0c",
       "version_major": 2,
       "version_minor": 0
      },
      "text/plain": [
       "Steps:   0%|          | 0/1000000.0 [00:00<?, ?it/s]"
      ]
     },
     "metadata": {},
     "output_type": "display_data"
    },
    {
     "data": {
      "application/vnd.jupyter.widget-view+json": {
       "model_id": "901cddf81d2f4f05860d74957816e5f1",
       "version_major": 2,
       "version_minor": 0
      },
      "text/plain": [
       "Acceptance rate:   0%|          "
      ]
     },
     "metadata": {},
     "output_type": "display_data"
    },
    {
     "name": "stdout",
     "output_type": "stream",
     "text": [
      "interrupted!\n",
      "accepted_steps 27295\n"
     ]
    }
   ],
   "source": [
    "frames,energies = it.run(movable_steps=movable_steps,target_accepted_steps=100000)"
   ]
  },
  {
   "cell_type": "code",
   "execution_count": 51,
   "id": "453d841f-303f-491e-8013-7f37ca897c2a",
   "metadata": {
    "tags": []
   },
   "outputs": [],
   "source": [
    "dna_gen.base_ref_frames = rebuild_by_full_par_frame_numba(np.array(frames[-1]))"
   ]
  },
  {
   "cell_type": "code",
   "execution_count": 52,
   "id": "7a317389-12cc-4b0b-8891-5f0e6bc4eb15",
   "metadata": {
    "tags": []
   },
   "outputs": [
    {
     "data": {
      "application/vnd.jupyter.widget-view+json": {
       "model_id": "271e2dab923c4ab5bcb30a9e4348e124",
       "version_major": 2,
       "version_minor": 0
      },
      "text/plain": [
       "NGLWidget()"
      ]
     },
     "metadata": {},
     "output_type": "display_data"
    }
   ],
   "source": [
    "dna_gen.view_structure()"
   ]
  },
  {
   "cell_type": "code",
   "execution_count": null,
   "id": "bdfc81e9-d3e4-4dd4-80b4-62f902afb666",
   "metadata": {},
   "outputs": [],
   "source": []
  }
 ],
 "metadata": {
  "kernelspec": {
   "display_name": ".conda-pynamod_env",
   "language": "python",
   "name": "conda-env-.conda-pynamod_env-py"
  },
  "language_info": {
   "codemirror_mode": {
    "name": "ipython",
    "version": 3
   },
   "file_extension": ".py",
   "mimetype": "text/x-python",
   "name": "python",
   "nbconvert_exporter": "python",
   "pygments_lexer": "ipython3",
   "version": "3.11.9"
  }
 },
 "nbformat": 4,
 "nbformat_minor": 5
}
