{
 "cells": [
  {
   "cell_type": "code",
   "execution_count": 2,
   "metadata": {},
   "outputs": [
    {
     "name": "stdout",
     "output_type": "stream",
     "text": [
      "The autoreload extension is already loaded. To reload it, use:\n",
      "  %reload_ext autoreload\n"
     ]
    }
   ],
   "source": [
    "%load_ext autoreload\n",
    "%autoreload 2\n",
    "import sys\n",
    "sys.path.insert(0,'..')\n",
    "import numpy as np\n",
    "import pynamod\n",
    "from pynamod.bp_step_geometry import get_params_for_single_step_debug\n",
    "from pynamod.parsers_3dna import parse_bp_par_file"
   ]
  },
  {
   "cell_type": "markdown",
   "metadata": {},
   "source": [
    "## ref frames to bp steps"
   ]
  },
  {
   "cell_type": "code",
   "execution_count": 3,
   "metadata": {},
   "outputs": [
    {
     "name": "stdout",
     "output_type": "stream",
     "text": [
      "hinge axis\n",
      "[-0.89926635 -0.39548455 -0.18684753]\n",
      "Roll Tilt angle, degrees\n",
      "10.236212178842694\n",
      "R_hinge\n",
      "[[ 0.99923719 -0.0152505   0.03595073]\n",
      " [ 0.01808648  0.99663653 -0.07992807]\n",
      " [-0.03461087  0.08051733  0.99615212]]\n",
      "R2'\n",
      "[[-0.66159118 -0.63959317 -0.39133162]\n",
      " [ 0.40060059 -0.74261854  0.53664721]\n",
      " [-0.63393539  0.19830081  0.74753827]]\n",
      "R1'\n",
      "[[-0.19816425 -0.89860656 -0.39138153]\n",
      " [ 0.74398295 -0.39786252  0.53682305]\n",
      " [-0.63811755 -0.18487812  0.74740632]]\n",
      "Rm\n",
      "[[-0.4489496  -0.80326915 -0.39136452]\n",
      " [ 0.59768197 -0.59557497  0.53674602]\n",
      " [-0.66424432  0.00700952  0.74748747]]\n",
      "om\n",
      "[14.86235  1.5501  -3.4953 ]\n",
      "Shift Slide Rise\n",
      "[0.3852440347155438, -1.403484763912353, 3.334931049983717]\n",
      "phi  16.945209828180445\n",
      "(0.3852440347155438, -1.403484763912353, 3.334931049983717, 2.983416580378309, 9.791795814773268, 33.522498611952365)\n"
     ]
    }
   ],
   "source": [
    "#recreation stuff from 3dna example\n",
    "o1 = np.array([15.0378, 0.1221, -4.6088])\n",
    "o2 = np.array([14.6869, 2.9781, -2.3818])\n",
    "\n",
    "R1=np.array([\n",
    "[-0.2323, -0.8985, -0.3724],\n",
    "[0.7889, -0.3980, 0.4682],\n",
    "[-0.5689, -0.1851, 0.8013]])\n",
    "R2=np.array([\n",
    "[-0.6319, -0.6594, -0.4072],\n",
    "[0.3583, -0.7144, 0.6010],\n",
    "[-0.6873, 0.2339, 0.6877]])\n",
    "\n",
    "\n",
    "print(get_params_for_single_step_debug(o1,o2,R1,R2))"
   ]
  },
  {
   "cell_type": "code",
   "execution_count": 4,
   "metadata": {},
   "outputs": [
    {
     "name": "stdout",
     "output_type": "stream",
     "text": [
      "(0.3688784331163958, -1.3437836422562135, 3.3348633456846515, 2.8195223211845715, 9.840240528088195, 31.645213532807098)\n"
     ]
    },
    {
     "name": "stderr",
     "output_type": "stream",
     "text": [
      "../pynamod/bp_step_geometry.py:104: NumbaPerformanceWarning: np.dot() is faster on contiguous arrays, called on (array(float64, 1d, C), array(float64, 1d, A))\n",
      "  twist=  np.rad2deg(np.dot(np.array(cross_product(R1p[:,1],R2p[:,1])),Rm[:,2]))\n",
      "../pynamod/bp_step_geometry.py:105: NumbaPerformanceWarning: np.dot() is faster on contiguous arrays, called on (array(float64, 1d, C), array(float64, 1d, A))\n",
      "  phi=np.dot(np.array(cross_product(hinge,Rm[:,1])),Rm[:,2])\n",
      "../pynamod/bp_step_geometry.py:96: NumbaPerformanceWarning: np.dot() is faster on contiguous arrays, called on (array(float64, 1d, A), array(float64, 1d, A))\n",
      "  RollTilt= (np.arccos(np.dot(z1,z2)))\n"
     ]
    },
    {
     "name": "stdout",
     "output_type": "stream",
     "text": [
      "(0.3688784331163958, -1.3437836422562135, 3.3348633456846515, 2.8195223211845715, 9.840240528088195, 31.645213532807098)\n"
     ]
    }
   ],
   "source": [
    "o1 = np.array([15.0378, 0.1221, -4.6088])\n",
    "o2 = np.array([14.6869, 2.9781, -2.3818])\n",
    "\n",
    "R1=np.array([\n",
    "[-0.2323, -0.8985, -0.3724],\n",
    "[0.7889, -0.3980, 0.4682],\n",
    "[-0.5689, -0.1851, 0.8013]])\n",
    "R2=np.array([\n",
    "[-0.6319, -0.6594, -0.4072],\n",
    "[0.3583, -0.7144, 0.6010],\n",
    "[-0.6873, 0.2339, 0.6877]])\n",
    "\n",
    "from pynamod.bp_step_geometry import get_params_for_single_step_stock, get_params_for_single_step_numba2\n",
    "\n",
    "print(get_params_for_single_step_stock(o1,o2,R1,R2))\n",
    "#%timeit get_params_for_single_step_stock(o1,o2,R1,R2)\n",
    "print(get_params_for_single_step_numba2(o1,o2,R1,R2))\n",
    "#%timeit get_params_for_single_step_numba2(o1,o2,R1,R2)"
   ]
  },
  {
   "cell_type": "markdown",
   "metadata": {},
   "source": [
    "## bp steps to ref frames"
   ]
  },
  {
   "cell_type": "code",
   "execution_count": 5,
   "metadata": {},
   "outputs": [
    {
     "data": {
      "text/plain": [
       "(array([14.661 ,  2.9233, -2.3561]), array([[-0.6098, -0.6798, -0.4073],\n",
       "        [ 0.3814, -0.7022,  0.6011],\n",
       "        [-0.6947,  0.2112,  0.6875]]))"
      ]
     },
     "execution_count": 5,
     "metadata": {},
     "output_type": "execute_result"
    }
   ],
   "source": [
    "from pynamod.bp_step_geometry import get_ori_and_mat_from_step,get_ori_and_mat_from_step_opt\n",
    "np.set_printoptions(precision=4)\n",
    "np.set_printoptions(suppress=True)\n",
    "o1 = np.array([15.0378, 0.1221, -4.6088])\n",
    "o2 = np.array([14.6869, 2.9781, -2.3818])\n",
    "\n",
    "R1=np.array([\n",
    "[-0.2323, -0.8985, -0.3724],\n",
    "[0.7889, -0.3980, 0.4682],\n",
    "[-0.5689, -0.1851, 0.8013]])\n",
    "R2=np.array([\n",
    "[-0.6319, -0.6594, -0.4072],\n",
    "[0.3583, -0.7144, 0.6010],\n",
    "[-0.6873, 0.2339, 0.6877]])\n",
    "\n",
    "params=get_params_for_single_step_stock(o1,o2,R1,R2)\n",
    "\n",
    "get_ori_and_mat_from_step(*params,R1,o1)\n",
    "get_ori_and_mat_from_step_opt(*params,R1,o1)\n",
    "#%timeit get_ori_and_mat_from_step(*params,R1,o1)\n",
    "#%timeit get_ori_and_mat_from_step_opt(*params,R1,o1)"
   ]
  },
  {
   "cell_type": "code",
   "execution_count": 6,
   "metadata": {},
   "outputs": [
    {
     "name": "stdout",
     "output_type": "stream",
     "text": [
      "Processing  Resources/1kx5.par\n"
     ]
    },
    {
     "name": "stderr",
     "output_type": "stream",
     "text": [
      "../pynamod/bp_step_geometry.py:193: NumbaPerformanceWarning: np.dot() is faster on contiguous arrays, called on (array(float64, 1d, C), array(float64, 2d, A))\n",
      "  bp_frames[i-1,:3,:3],bp_frames[i-1,3,:3])\n",
      "../pynamod/bp_step_geometry.py:193: NumbaPerformanceWarning: np.dot() is faster on contiguous arrays, called on (array(float64, 2d, A), array(float64, 2d, C))\n",
      "  bp_frames[i-1,:3,:3],bp_frames[i-1,3,:3])\n"
     ]
    }
   ],
   "source": [
    "from pynamod.bp_step_geometry import rebuild_by_full_par_frame_numba\n",
    "header,pairtypes,full_par_frame=parse_bp_par_file('Resources/1kx5.par')\n",
    "bp_frames=rebuild_by_full_par_frame_numba(full_par_frame)\n",
    "#bp_frames"
   ]
  },
  {
   "cell_type": "code",
   "execution_count": 7,
   "metadata": {},
   "outputs": [
    {
     "data": {
      "application/vnd.jupyter.widget-view+json": {
       "model_id": "378f8cbc18e746a68ccb0272420c69a3",
       "version_major": 2,
       "version_minor": 0
      },
      "text/plain": [
       "NGLWidget()"
      ]
     },
     "metadata": {},
     "output_type": "display_data"
    }
   ],
   "source": [
    "from pynamod.visual_ngl import show_ref_frames\n",
    "show_ref_frames(bp_frames)"
   ]
  },
  {
   "cell_type": "markdown",
   "metadata": {},
   "source": [
    "## Creating special steps (histone octameres, dyes, etc)"
   ]
  },
  {
   "cell_type": "code",
   "execution_count": 8,
   "metadata": {},
   "outputs": [
    {
     "name": "stderr",
     "output_type": "stream",
     "text": [
      "/opt/miniconda3/envs/moldyn/lib/python3.7/site-packages/MDAnalysis/topology/guessers.py:72: UserWarning: Failed to guess the mass for the following atom types: MN\n",
      "  warnings.warn(\"Failed to guess the mass for the following atom types: {}\".format(atom_type))\n"
     ]
    },
    {
     "data": {
      "application/vnd.jupyter.widget-view+json": {
       "model_id": "eec589706e6d4cff9c3f581909fac6f6",
       "version_major": 2,
       "version_minor": 0
      },
      "text/plain": [
       "NGLWidget()"
      ]
     },
     "metadata": {},
     "output_type": "display_data"
    }
   ],
   "source": [
    "# histone octamer from 1kx5\n",
    "import MDAnalysis as mda\n",
    "import nglview as nv\n",
    "from pynamod.non_DNA_geometry import get_obj_orientation_and_location,get_rotation_and_offset_ref_frame_to_obj\n",
    "from pynamod.parsers_3dna import ref_frames_to_array\n",
    "nucl = mda.Universe('Resources/1KX5.pdb')\n",
    "bp_frames_1kx5=ref_frames_to_array('Resources/1kx5_ref_frames.dat')[0]\n",
    "\n",
    "sel_text=\"(segid A E and (resid 44:135 or (resid 43 and name C O CA))) or \\\n",
    "(segid B F and (resid 23:102 or (resid 22 and name C O CA))) or \\\n",
    "(segid C G and (resid 16:102 or (resid 15 and name C O CA) or (resid 103 and name N CA))) or \\\n",
    "(segid D H and (resid 34:122 or (resid 33 and name C O CA)))\"\n",
    "\n",
    "nucl_trunc=nucl.select_atoms(sel_text)\n",
    "nucl_trunc.atoms\n",
    "view=nv.show_mdanalysis(nucl_trunc)\n",
    "\n",
    "cog=nucl_trunc.atoms.center_of_geometry()\n",
    "axes=nucl_trunc.atoms.principal_axes()\n",
    "\n",
    "\n",
    "o1 = bp_frames_1kx5[73,3,:3]\n",
    "o2 = cog\n",
    "\n",
    "ref_mat=bp_frames_1kx5[73,:3,:3]\n",
    "obj_mat=axes\n",
    "\n",
    "# gettng rotation and offset from dyad base pair to histone core\n",
    "R2,of_vec=get_rotation_and_offset_ref_frame_to_obj(ref_mat,o1,obj_mat,o2)\n",
    "\n",
    "#getting location and orientation of histone core from the above\n",
    "calcR2,calcO2=get_obj_orientation_and_location(ref_mat,o1,R2,of_vec)\n",
    "\n",
    "view=show_ref_frames(bp_frames_1kx5,view,spheres=False,arrows=False,diamonds=False,boxes=True)\n",
    "\n",
    "view.shape.add_sphere(o2.tolist(),[0,1,0],3)\n",
    "view.shape.add_arrow(calcO2.tolist(),(calcO2 + 40*calcR2[0]).tolist(),[1,0,0],3)\n",
    "view.shape.add_arrow(calcO2.tolist(),(calcO2 + 40*calcR2[1]).tolist(),[0,1,0],3)\n",
    "view.shape.add_arrow(calcO2.tolist(),(calcO2 + 40*calcR2[2]).tolist(),[0,0,1],3)\n",
    "\n",
    "\n",
    "view"
   ]
  },
  {
   "cell_type": "code",
   "execution_count": 9,
   "metadata": {},
   "outputs": [
    {
     "name": "stdout",
     "output_type": "stream",
     "text": [
      "Processing  Resources/init_fiber.par\n"
     ]
    },
    {
     "data": {
      "application/vnd.jupyter.widget-view+json": {
       "model_id": "5f760724fb7e47ca9471bf8d05e2457f",
       "version_major": 2,
       "version_minor": 0
      },
      "text/plain": [
       "NGLWidget()"
      ]
     },
     "metadata": {},
     "output_type": "display_data"
    }
   ],
   "source": [
    "header,pairtypes,full_par_frame=parse_bp_par_file('Resources/init_fiber.par')\n",
    "full_par_frame=np.tile(full_par_frame,(1,1))\n",
    "N=12*1\n",
    "nps_length=147\n",
    "linker_length=40\n",
    "from pynamod.utils import get_movable_steps\n",
    "\n",
    "movable_steps=get_movable_steps([[i,i+linker_length+15] for i in (nps_length+linker_length)* np.arange(N)])\n",
    "\n",
    "for i in np.arange(5):\n",
    "    full_par_frame[movable_steps,9:12]+=np.random.normal(0,1,size=full_par_frame[movable_steps,9:12].shape)\n",
    "\n",
    "\n",
    "bp_frames=rebuild_by_full_par_frame_numba(full_par_frame)\n",
    "view=show_ref_frames(bp_frames,arrows=False,diamonds=False,boxes=False)\n",
    "\n",
    "beads=[]\n",
    "for i in (nps_length+linker_length)* np.arange(N)+73+linker_length:\n",
    "    full_par_frame\n",
    "    o1 = bp_frames[i,3,:3]\n",
    "    R1=bp_frames[i,:3,:3]\n",
    "    mat,ori=get_obj_orientation_and_location(R1,o1,R2,of_vec)\n",
    "    beads.extend(ori)\n",
    "\n",
    "view.shape.add_buffer('sphere',position=beads,color=[1,0,0]*(len(beads)//3),radius=[35]*(len(beads)//3))\n",
    "view"
   ]
  }
 ],
 "metadata": {
  "kernelspec": {
   "display_name": "Python [conda env:moldyn]",
   "language": "python",
   "name": "conda-env-moldyn-py"
  },
  "language_info": {
   "codemirror_mode": {
    "name": "ipython",
    "version": 3
   },
   "file_extension": ".py",
   "mimetype": "text/x-python",
   "name": "python",
   "nbconvert_exporter": "python",
   "pygments_lexer": "ipython3",
   "version": "3.7.1"
  }
 },
 "nbformat": 4,
 "nbformat_minor": 2
}
