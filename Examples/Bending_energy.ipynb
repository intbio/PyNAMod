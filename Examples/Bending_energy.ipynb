{
 "cells": [
  {
   "cell_type": "code",
   "execution_count": 4,
   "metadata": {},
   "outputs": [
    {
     "name": "stdout",
     "output_type": "stream",
     "text": [
      "The autoreload extension is already loaded. To reload it, use:\n",
      "  %reload_ext autoreload\n"
     ]
    }
   ],
   "source": [
    "%load_ext autoreload\n",
    "%autoreload 2\n",
    "import sys\n",
    "sys.path.insert(0,'..')\n",
    "import pynamod\n",
    "from pynamod.parsers_3dna import parse_bp_par_file\n",
    "from pynamod.energy_constants import get_consts_olson_98\n",
    "from pynamod.utils import get_movable_steps"
   ]
  },
  {
   "cell_type": "code",
   "execution_count": 6,
   "metadata": {},
   "outputs": [
    {
     "name": "stdout",
     "output_type": "stream",
     "text": [
      "Processing  Resources/1kx5.par\n"
     ]
    }
   ],
   "source": [
    "AVERAGE,FORCE_CONST,DISP=get_consts_olson_98()\n",
    "header,pairtypes,full_par_frame=parse_bp_par_file('Resources/1kx5.par')"
   ]
  },
  {
   "cell_type": "code",
   "execution_count": 8,
   "metadata": {},
   "outputs": [
    {
     "name": "stdout",
     "output_type": "stream",
     "text": [
      "83.76470270950003\n",
      "8.03 µs ± 42 ns per loop (mean ± std. dev. of 7 runs, 100000 loops each)\n"
     ]
    }
   ],
   "source": [
    "#testing the speed of main energy func\n",
    "from pynamod.energy_funcs import get_force_matrix, get_average_bpstep_frame, get_bpstep_frame, _calc_bend_energy\n",
    "\n",
    "movable_steps=get_movable_steps([[130,147]])\n",
    "force_matrix=get_force_matrix(pairtypes,movable_steps,FORCE_CONST)\n",
    "average_bpstep_frame=get_average_bpstep_frame(pairtypes,movable_steps,AVERAGE)\n",
    "bpstep_frame=get_bpstep_frame(full_par_frame,movable_steps)\n",
    "\n",
    "print(_calc_bend_energy(bpstep_frame,force_matrix,average_bpstep_frame))\n",
    "%timeit _calc_bend_energy(bpstep_frame,force_matrix,average_bpstep_frame)"
   ]
  },
  {
   "cell_type": "code",
   "execution_count": 9,
   "metadata": {},
   "outputs": [
    {
     "name": "stdout",
     "output_type": "stream",
     "text": [
      "83.76470270950003\n",
      "220 µs ± 1.08 µs per loop (mean ± std. dev. of 7 runs, 1000 loops each)\n"
     ]
    }
   ],
   "source": [
    "#testing the speed of decorated energy func\n",
    "from pynamod.utils import get_movable_steps\n",
    "from pynamod.energy_funcs import get_bend_energy\n",
    "movable_steps=get_movable_steps([[130,147]])\n",
    "\n",
    "print(get_bend_energy(full_par_frame,pairtypes,movable_steps,FORCE_CONST,AVERAGE))\n",
    "%timeit get_bend_energy(full_par_frame,pairtypes,movable_steps,FORCE_CONST,AVERAGE)"
   ]
  },
  {
   "cell_type": "code",
   "execution_count": 10,
   "metadata": {},
   "outputs": [
    {
     "name": "stdout",
     "output_type": "stream",
     "text": [
      "basinhopping step 0: f 9.81717e-21\n",
      "basinhopping step 1: f 8.65825e-21 trial_f 8.65825e-21 accepted 1  lowest_f 8.65825e-21\n",
      "found new global minimum on step 1 with function value 8.65825e-21\n",
      "basinhopping step 2: f 6.803e-21 trial_f 6.803e-21 accepted 1  lowest_f 6.803e-21\n",
      "found new global minimum on step 2 with function value 6.803e-21\n",
      "basinhopping step 3: f 9.77108e-21 trial_f 9.77108e-21 accepted 1  lowest_f 6.803e-21\n",
      "basinhopping step 4: f 9.0519e-21 trial_f 9.0519e-21 accepted 1  lowest_f 6.803e-21\n",
      "basinhopping step 5: f 8.15648e-21 trial_f 8.15648e-21 accepted 1  lowest_f 6.803e-21\n"
     ]
    }
   ],
   "source": [
    "# minimization routines\n",
    "from pynamod.optimizers import run_basinhopping\n",
    "movable_steps=get_movable_steps([[50,100]])\n",
    "new_full_par_frame,res=run_basinhopping(full_par_frame,pairtypes,movable_steps,FORCE_CONST,AVERAGE,\n",
    "                                       options={'niter':5,'T': 1000},method='Powell')"
   ]
  },
  {
   "cell_type": "code",
   "execution_count": null,
   "metadata": {},
   "outputs": [],
   "source": []
  }
 ],
 "metadata": {
  "kernelspec": {
   "display_name": "Python [conda env:moldyn]",
   "language": "python",
   "name": "conda-env-moldyn-py"
  },
  "language_info": {
   "codemirror_mode": {
    "name": "ipython",
    "version": 3
   },
   "file_extension": ".py",
   "mimetype": "text/x-python",
   "name": "python",
   "nbconvert_exporter": "python",
   "pygments_lexer": "ipython3",
   "version": "3.7.1"
  }
 },
 "nbformat": 4,
 "nbformat_minor": 2
}
