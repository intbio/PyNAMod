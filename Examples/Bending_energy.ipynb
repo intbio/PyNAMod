{
 "cells": [
  {
   "cell_type": "markdown",
   "metadata": {},
   "source": [
    "# TODO\n",
    "- функция для быстрого расчета геометрии по полуфрейму\n",
    "- Написать и оптимизировать функцию определения координат особых точек\n",
    "- написать функцию отклонения от расстояний"
   ]
  },
  {
   "cell_type": "code",
   "execution_count": 1,
   "metadata": {},
   "outputs": [],
   "source": [
    "%load_ext autoreload\n",
    "%autoreload 2\n",
    "import sys\n",
    "sys.path.insert(0,'..')\n",
    "import pynamod\n",
    "from pynamod.parsers_3dna import parse_bp_par_file\n",
    "from pynamod.energy_constants import get_consts_olson_98,get_dye_data\n",
    "from pynamod.utils import get_movable_steps"
   ]
  },
  {
   "cell_type": "code",
   "execution_count": 2,
   "metadata": {},
   "outputs": [
    {
     "name": "stdout",
     "output_type": "stream",
     "text": [
      "Processing  Resources/1kx5.par\n"
     ]
    }
   ],
   "source": [
    "AVERAGE,FORCE_CONST,DISP=get_consts_olson_98()\n",
    "header,pairtypes,full_par_frame=parse_bp_par_file('Resources/1kx5.par')"
   ]
  },
  {
   "cell_type": "code",
   "execution_count": 3,
   "metadata": {},
   "outputs": [
    {
     "name": "stdout",
     "output_type": "stream",
     "text": [
      "83.76470270950003\n",
      "10.7 µs ± 31.4 ns per loop (mean ± std. dev. of 7 runs, 100000 loops each)\n"
     ]
    }
   ],
   "source": [
    "#testing the speed of main energy func\n",
    "from pynamod.energy_funcs import get_force_matrix, get_average_bpstep_frame, get_bpstep_frame, _calc_bend_energy\n",
    "\n",
    "movable_steps=get_movable_steps([[130,147]])\n",
    "force_matrix=get_force_matrix(pairtypes,movable_steps,FORCE_CONST)\n",
    "average_bpstep_frame=get_average_bpstep_frame(pairtypes,movable_steps,AVERAGE)\n",
    "bpstep_frame=get_bpstep_frame(full_par_frame,movable_steps)\n",
    "\n",
    "print(_calc_bend_energy(bpstep_frame,force_matrix,average_bpstep_frame))\n",
    "%timeit _calc_bend_energy(bpstep_frame,force_matrix,average_bpstep_frame)"
   ]
  },
  {
   "cell_type": "code",
   "execution_count": 4,
   "metadata": {},
   "outputs": [
    {
     "name": "stdout",
     "output_type": "stream",
     "text": [
      "83.76470270950003\n",
      "237 µs ± 278 ns per loop (mean ± std. dev. of 7 runs, 1000 loops each)\n"
     ]
    }
   ],
   "source": [
    "#testing the speed of decorated energy func\n",
    "from pynamod.utils import get_movable_steps\n",
    "from pynamod.energy_funcs import get_bend_energy\n",
    "movable_steps=get_movable_steps([[130,147]])\n",
    "\n",
    "print(get_bend_energy(full_par_frame,pairtypes,movable_steps,FORCE_CONST,AVERAGE))\n",
    "%timeit get_bend_energy(full_par_frame,pairtypes,movable_steps,FORCE_CONST,AVERAGE)"
   ]
  },
  {
   "cell_type": "code",
   "execution_count": 5,
   "metadata": {},
   "outputs": [
    {
     "name": "stdout",
     "output_type": "stream",
     "text": [
      "basinhopping step 0: f 9.81717e-21\n",
      "basinhopping step 1: f 1.00635e-20 trial_f 1.00635e-20 accepted 1  lowest_f 9.81717e-21\n",
      "basinhopping step 2: f 9.86192e-21 trial_f 9.86192e-21 accepted 1  lowest_f 9.81717e-21\n",
      "basinhopping step 3: f 7.97375e-21 trial_f 7.97375e-21 accepted 1  lowest_f 7.97375e-21\n",
      "found new global minimum on step 3 with function value 7.97375e-21\n",
      "basinhopping step 4: f 8.16089e-21 trial_f 8.16089e-21 accepted 1  lowest_f 7.97375e-21\n",
      "basinhopping step 5: f 8.3465e-21 trial_f 8.3465e-21 accepted 1  lowest_f 7.97375e-21\n"
     ]
    }
   ],
   "source": [
    "# minimization routines\n",
    "from pynamod.optimizers import run_basinhopping\n",
    "movable_steps=get_movable_steps([[50,100]])\n",
    "new_full_par_frame,res=run_basinhopping(full_par_frame,pairtypes,movable_steps,FORCE_CONST,AVERAGE,\n",
    "                                       options={'niter':5,'T': 1000},method='Powell')"
   ]
  },
  {
   "cell_type": "code",
   "execution_count": 6,
   "metadata": {},
   "outputs": [
    {
     "data": {
      "application/vnd.jupyter.widget-view+json": {
       "model_id": "aa05e660dcaf43cb9245dd1480a4a51d",
       "version_major": 2,
       "version_minor": 0
      },
      "text/plain": [
       "_ColormakerRegistry()"
      ]
     },
     "metadata": {},
     "output_type": "display_data"
    }
   ],
   "source": [
    "from pynamod.bp_step_geometry import rebuild_by_full_par_frame_numba\n",
    "from pynamod.visual_ngl import show_ref_frames\n",
    "from pynamod.non_DNA_geometry import get_obj_orientation,get_obj_orientation_and_location\n",
    "from pynamod.geometry_transformations import length"
   ]
  },
  {
   "cell_type": "code",
   "execution_count": 17,
   "metadata": {},
   "outputs": [],
   "source": [
    "bp_frames=rebuild_by_full_par_frame_numba(new_full_par_frame)"
   ]
  },
  {
   "cell_type": "code",
   "execution_count": 19,
   "metadata": {},
   "outputs": [],
   "source": [
    "view=show_ref_frames(bp_frames)"
   ]
  },
  {
   "cell_type": "code",
   "execution_count": 20,
   "metadata": {},
   "outputs": [
    {
     "data": {
      "application/vnd.jupyter.widget-view+json": {
       "model_id": "c0470a7ad6344210a5b658655517c93b",
       "version_major": 2,
       "version_minor": 0
      },
      "text/plain": [
       "NGLWidget()"
      ]
     },
     "metadata": {},
     "output_type": "display_data"
    }
   ],
   "source": [
    "view"
   ]
  },
  {
   "cell_type": "code",
   "execution_count": 12,
   "metadata": {},
   "outputs": [],
   "source": [
    "dye_data=get_dye_data()"
   ]
  },
  {
   "cell_type": "code",
   "execution_count": 13,
   "metadata": {},
   "outputs": [
    {
     "name": "stdout",
     "output_type": "stream",
     "text": [
      "Available dyes are:  ['cy3_forward' 'cy3_reverse' 'cy5_forward' 'cy5_reverse']\n"
     ]
    }
   ],
   "source": [
    "print('Available dyes are: ',dye_data['name'])"
   ]
  },
  {
   "cell_type": "code",
   "execution_count": 14,
   "metadata": {},
   "outputs": [
    {
     "data": {
      "text/plain": [
       "43.75184828355875"
      ]
     },
     "execution_count": 14,
     "metadata": {},
     "output_type": "execute_result"
    }
   ],
   "source": [
    "import numpy as np\n",
    "def get_distances(full_par_frame,pairs=[[0,10],[0,11]],types=[[dye_data[0],dye_data[3]],[dye_data[0],dye_data[3]]]):\n",
    "    bp_ref_frames=rebuild_by_full_par_frame_numba(full_par_frame)\n",
    "    results=np.zeros(len(pairs))\n",
    "    for i,(pair,dye_types) in enumerate(zip(pairs,types)):\n",
    "        calcO1=get_obj_orientation(bp_ref_frames[pair[0],:3,:3],bp_ref_frames[pair[0],3,:3],dye_types[0]['Of_vec'])\n",
    "        calcO2=get_obj_orientation(bp_ref_frames[pair[1],:3,:3],bp_ref_frames[pair[1],3,:3],dye_types[1]['Of_vec'])\n",
    "        results[i]=length(calcO1-calcO2)\n",
    "    return results\n",
    "#%timeit get_distances(new_full_par_frame)\n",
    "get_distances(new_full_par_frame)\n",
    "def _calc_dist_deviation(full_par_frame,pairs=[[0,10],[0,11]],types=[[dye_data[0],dye_data[3]],[dye_data[0],dye_data[3]]],dists=[30,34],weights=[1,1]):\n",
    "    distances=get_distances(full_par_frame,pairs,types)\n",
    "    return np.sum(weights*(dists-distances)**2)\n",
    "_calc_dist_deviation(new_full_par_frame[:])"
   ]
  },
  {
   "cell_type": "code",
   "execution_count": 15,
   "metadata": {},
   "outputs": [],
   "source": [
    "items = [1, 2, 3, 4, 5]\n",
    "squared = list(map(lambda x: x**2, items))"
   ]
  },
  {
   "cell_type": "code",
   "execution_count": 21,
   "metadata": {},
   "outputs": [
    {
     "data": {
      "application/vnd.jupyter.widget-view+json": {
       "model_id": "c0470a7ad6344210a5b658655517c93b",
       "version_major": 2,
       "version_minor": 0
      },
      "text/plain": [
       "NGLWidget(n_components=3)"
      ]
     },
     "metadata": {},
     "output_type": "display_data"
    }
   ],
   "source": [
    "calcR,calcO=get_obj_orientation_and_location(bp_frames[100,:3,:3],bp_frames[100,3,:3],dye_data[0]['R_mat'],dye_data[0]['Of_vec'])\n",
    "view.shape.add_sphere(calcO.tolist(),[0,0,1],4)\n",
    "view"
   ]
  }
 ],
 "metadata": {
  "kernelspec": {
   "display_name": "Python [conda env:moldyn]",
   "language": "python",
   "name": "conda-env-moldyn-py"
  },
  "language_info": {
   "codemirror_mode": {
    "name": "ipython",
    "version": 3
   },
   "file_extension": ".py",
   "mimetype": "text/x-python",
   "name": "python",
   "nbconvert_exporter": "python",
   "pygments_lexer": "ipython3",
   "version": "3.7.3"
  }
 },
 "nbformat": 4,
 "nbformat_minor": 4
}
