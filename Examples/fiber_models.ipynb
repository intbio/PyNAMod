{
 "cells": [
  {
   "cell_type": "code",
   "execution_count": 11,
   "metadata": {},
   "outputs": [
    {
     "name": "stdout",
     "output_type": "stream",
     "text": [
      "The autoreload extension is already loaded. To reload it, use:\n",
      "  %reload_ext autoreload\n"
     ]
    }
   ],
   "source": [
    "%load_ext autoreload\n",
    "%autoreload 2\n",
    "import sys\n",
    "sys.path.insert(0,'..')\n",
    "import pynamod\n",
    "from pynamod.parsers_3dna import parse_bp_par_file\n",
    "from pynamod.energy_constants import get_consts_olson_98,get_dye_data\n",
    "from pynamod.utils import get_movable_steps\n",
    "from pynamod.NuclFiber import *\n",
    "from pynamod.visual_ngl import show_ref_frames\n",
    "from pynamod.bp_step_geometry import rebuild_by_full_par_frame_numba\n",
    "import pynucl\n",
    "import pandas as pd"
   ]
  },
  {
   "cell_type": "markdown",
   "metadata": {},
   "source": [
    "## there are several ways to initialize a fiber model\n",
    "### Via explicit sequence, NCP codes and locations"
   ]
  },
  {
   "cell_type": "code",
   "execution_count": 2,
   "metadata": {},
   "outputs": [
    {
     "name": "stderr",
     "output_type": "stream",
     "text": [
      "INFO:root:Started loading structures from RCSB\n",
      "INFO:root:Loading 3lz0\n",
      "/opt/miniconda3/envs/moldyn/lib/python3.7/site-packages/MDAnalysis/topology/guessers.py:80: UserWarning: Failed to guess the mass for the following atom types: MN\n",
      "  warnings.warn(\"Failed to guess the mass for the following atom types: {}\".format(atom_type))\n"
     ]
    },
    {
     "name": "stdout",
     "output_type": "stream",
     "text": [
      "1 frames loaded for None\n"
     ]
    },
    {
     "name": "stderr",
     "output_type": "stream",
     "text": [
      "/opt/miniconda3/envs/moldyn/lib/python3.7/site-packages/MDAnalysis/coordinates/base.py:837: UserWarning: Reader has no dt information, set to 1.0 ps\n",
      "  warnings.warn(\"Reader has no dt information, set to 1.0 ps\")\n",
      "INFO:MDAnalysis.analysis.align:Moved mobile trajectory to in-memory representation\n",
      "/opt/miniconda3/envs/moldyn/lib/python3.7/site-packages/MDAnalysis/analysis/base.py:116: DeprecationWarning: Setting the following kwargs should be done in the run() method: start, step\n",
      "  DeprecationWarning)\n"
     ]
    },
    {
     "data": {
      "application/vnd.jupyter.widget-view+json": {
       "model_id": "0ab9ef5081dc4c3287448f2a70e01aec",
       "version_major": 2,
       "version_minor": 0
      },
      "text/plain": [
       "HBox(children=(FloatProgress(value=0.0, max=1.0), HTML(value='')))"
      ]
     },
     "metadata": {},
     "output_type": "display_data"
    },
    {
     "name": "stdout",
     "output_type": "stream",
     "text": [
      "\n"
     ]
    },
    {
     "name": "stderr",
     "output_type": "stream",
     "text": [
      "/home/_shared/package_dev/pynucl/pynucl/a_DNAparams.py:155: FutureWarning: Indexing with multiple keys (implicitly converted to a tuple of keys) will be deprecated, use a list instead.\n",
      "  self.df=self.df_series.groupby(['BPnum','BPnum_dyad','segid','resid'])['x','y','z','Shear','Stretch','Stagger','Buckle','Prop-Tw','Opening','Shift', 'Slide', 'Rise', 'Tilt', 'Roll', 'Twist','Pairing', 'chi_1', 'alpha_1', 'beta_1', 'gamma_1', 'delta_1','epsilon_1', 'zeta_1', 'e-z_1', 'chi_2', 'alpha_2','beta_2', 'gamma_2', 'delta_2', 'epsilon_2', 'zeta_2', 'e-z_2',  'v0_1', 'v1_1', 'v2_1', 'v3_1', 'v4_1', 'tm_1', 'P_1', 'ssZp_1', 'Dp_1', 'v0_2', 'v1_2', 'v2_2', 'v3_2', 'v4_2','tm_2', 'P_2', 'ssZp_2', 'Dp_2'].apply(np.mean).reset_index()\n",
      "/home/_shared/package_dev/pynucl/pynucl/a_DNAparams.py:156: FutureWarning: Indexing with multiple keys (implicitly converted to a tuple of keys) will be deprecated, use a list instead.\n",
      "  self.df_std=self.df_series.groupby(['BPnum','BPnum_dyad','segid','resid'])['x','y','z','Shear','Stretch','Stagger','Buckle','Prop-Tw','Opening','Shift', 'Slide', 'Rise', 'Tilt', 'Roll', 'Twist','Pairing', 'chi_1', 'alpha_1', 'beta_1', 'gamma_1', 'delta_1','epsilon_1', 'zeta_1', 'e-z_1', 'chi_2', 'alpha_2','beta_2', 'gamma_2', 'delta_2', 'epsilon_2', 'zeta_2', 'e-z_2',  'v0_1', 'v1_1', 'v2_1', 'v3_1', 'v4_1', 'tm_1', 'P_1', 'ssZp_1', 'Dp_1', 'v0_2', 'v1_2', 'v2_2', 'v3_2', 'v4_2','tm_2', 'P_2', 'ssZp_2', 'Dp_2'].agg('std').reset_index()\n",
      "/home/_shared/package_dev/pynucl/pynucl/a_DNAparams.py:157: FutureWarning: Indexing with multiple keys (implicitly converted to a tuple of keys) will be deprecated, use a list instead.\n",
      "  self.df_min=self.df_series.groupby(['BPnum','BPnum_dyad','segid','resid'])['x','y','z','Shear','Stretch','Stagger','Buckle','Prop-Tw','Opening','Shift', 'Slide', 'Rise', 'Tilt', 'Roll', 'Twist','Pairing', 'chi_1', 'alpha_1', 'beta_1', 'gamma_1', 'delta_1','epsilon_1', 'zeta_1', 'e-z_1', 'chi_2', 'alpha_2','beta_2', 'gamma_2', 'delta_2', 'epsilon_2', 'zeta_2', 'e-z_2',  'v0_1', 'v1_1', 'v2_1', 'v3_1', 'v4_1', 'tm_1', 'P_1', 'ssZp_1', 'Dp_1', 'v0_2', 'v1_2', 'v2_2', 'v3_2', 'v4_2','tm_2', 'P_2', 'ssZp_2', 'Dp_2'].agg('min').reset_index()\n",
      "/home/_shared/package_dev/pynucl/pynucl/a_DNAparams.py:158: FutureWarning: Indexing with multiple keys (implicitly converted to a tuple of keys) will be deprecated, use a list instead.\n",
      "  self.df_max=self.df_series.groupby(['BPnum','BPnum_dyad','segid','resid'])['x','y','z','Shear','Stretch','Stagger','Buckle','Prop-Tw','Opening','Shift', 'Slide', 'Rise', 'Tilt', 'Roll', 'Twist','Pairing', 'chi_1', 'alpha_1', 'beta_1', 'gamma_1', 'delta_1','epsilon_1', 'zeta_1', 'e-z_1', 'chi_2', 'alpha_2','beta_2', 'gamma_2', 'delta_2', 'epsilon_2', 'zeta_2', 'e-z_2',  'v0_1', 'v1_1', 'v2_1', 'v3_1', 'v4_1', 'tm_1', 'P_1', 'ssZp_1', 'Dp_1', 'v0_2', 'v1_2', 'v2_2', 'v3_2', 'v4_2','tm_2', 'P_2', 'ssZp_2', 'Dp_2'].agg('max').reset_index()\n",
      "../pynamod/bp_step_geometry.py:195: NumbaPerformanceWarning: np.dot() is faster on contiguous arrays, called on (array(float64, 1d, C), array(float64, 2d, A))\n",
      "  bp_frames[i-1,:3,:3],bp_frames[i-1,3,:3])\n",
      "../pynamod/bp_step_geometry.py:195: NumbaPerformanceWarning: np.dot() is faster on contiguous arrays, called on (array(float64, 2d, A), array(float64, 2d, C))\n",
      "  bp_frames[i-1,:3,:3],bp_frames[i-1,3,:3])\n",
      "WARNING:root:ncp_dyad_locations ignored as linker_sequence or linker_lengths provided\n"
     ]
    }
   ],
   "source": [
    "sequence='atgcatgcatgcatgcatgcatgcatgcatgcatgcatgcatgcatgcatgcatgcatgcatgcatgcatgcatgcatgcatgcatgcatgcatgcatgcatgcatgcatgcatgcatgcatgcatgcatgcatgcatgcatgcatgcatgcatgcatgcatgcatgcatgcatgcatgcatgcatgcatgcatgcatgcatgcatgcatgcatgcatgcatgcatgcatgcatgcatgcatgcatgcatgcatgcatgcatgcatgcatgcatgcatgcatgcatgcatgcatgcatgcatgcatgcatgcatgcatgcatgcatgcatgcatgcatgcatgcatgcatgcatgcatgcatgcatgcatgcatgcatgcatgcatgcatgcatgcatgcatgcatgcatgcatgcatgcatgcatgcatgcatgcatgcatgcatgcatgcatgcatgcatgcatgcatgcatgcatgctgcatgcatgcatgcatgcatgcatgcatgcatgcatgcatg'\n",
    "self=Fiber_model(sequence=sequence,ncp_pdb_ids=['3LZ0','3LZ0','3LZ0'],\n",
    "                 ncp_dyad_locations=[80,80+150,80+300])"
   ]
  },
  {
   "cell_type": "markdown",
   "metadata": {},
   "source": [
    "### Via sequence extracted form NCP codes and linker sequence"
   ]
  },
  {
   "cell_type": "code",
   "execution_count": 209,
   "metadata": {},
   "outputs": [
    {
     "name": "stderr",
     "output_type": "stream",
     "text": [
      "INFO:root:Started loading structures from RCSB\n",
      "INFO:root:Loading 3lz0\n",
      "/opt/miniconda3/envs/moldyn/lib/python3.7/site-packages/MDAnalysis/topology/guessers.py:80: UserWarning: Failed to guess the mass for the following atom types: MN\n",
      "  warnings.warn(\"Failed to guess the mass for the following atom types: {}\".format(atom_type))\n"
     ]
    },
    {
     "name": "stdout",
     "output_type": "stream",
     "text": [
      "1 frames loaded for None\n"
     ]
    },
    {
     "name": "stderr",
     "output_type": "stream",
     "text": [
      "/opt/miniconda3/envs/moldyn/lib/python3.7/site-packages/MDAnalysis/coordinates/base.py:837: UserWarning: Reader has no dt information, set to 1.0 ps\n",
      "  warnings.warn(\"Reader has no dt information, set to 1.0 ps\")\n",
      "INFO:MDAnalysis.analysis.align:Moved mobile trajectory to in-memory representation\n",
      "/opt/miniconda3/envs/moldyn/lib/python3.7/site-packages/MDAnalysis/analysis/base.py:116: DeprecationWarning: Setting the following kwargs should be done in the run() method: start, step\n",
      "  DeprecationWarning)\n"
     ]
    },
    {
     "data": {
      "application/vnd.jupyter.widget-view+json": {
       "model_id": "54b07994ceb84711bba5b71495990032",
       "version_major": 2,
       "version_minor": 0
      },
      "text/plain": [
       "HBox(children=(FloatProgress(value=0.0, max=1.0), HTML(value='')))"
      ]
     },
     "metadata": {},
     "output_type": "display_data"
    },
    {
     "name": "stdout",
     "output_type": "stream",
     "text": [
      "\n"
     ]
    },
    {
     "name": "stderr",
     "output_type": "stream",
     "text": [
      "/home/_shared/package_dev/pynucl/pynucl/a_DNAparams.py:155: FutureWarning: Indexing with multiple keys (implicitly converted to a tuple of keys) will be deprecated, use a list instead.\n",
      "  self.df=self.df_series.groupby(['BPnum','BPnum_dyad','segid','resid'])['x','y','z','Shear','Stretch','Stagger','Buckle','Prop-Tw','Opening','Shift', 'Slide', 'Rise', 'Tilt', 'Roll', 'Twist','Pairing', 'chi_1', 'alpha_1', 'beta_1', 'gamma_1', 'delta_1','epsilon_1', 'zeta_1', 'e-z_1', 'chi_2', 'alpha_2','beta_2', 'gamma_2', 'delta_2', 'epsilon_2', 'zeta_2', 'e-z_2',  'v0_1', 'v1_1', 'v2_1', 'v3_1', 'v4_1', 'tm_1', 'P_1', 'ssZp_1', 'Dp_1', 'v0_2', 'v1_2', 'v2_2', 'v3_2', 'v4_2','tm_2', 'P_2', 'ssZp_2', 'Dp_2'].apply(np.mean).reset_index()\n",
      "/home/_shared/package_dev/pynucl/pynucl/a_DNAparams.py:156: FutureWarning: Indexing with multiple keys (implicitly converted to a tuple of keys) will be deprecated, use a list instead.\n",
      "  self.df_std=self.df_series.groupby(['BPnum','BPnum_dyad','segid','resid'])['x','y','z','Shear','Stretch','Stagger','Buckle','Prop-Tw','Opening','Shift', 'Slide', 'Rise', 'Tilt', 'Roll', 'Twist','Pairing', 'chi_1', 'alpha_1', 'beta_1', 'gamma_1', 'delta_1','epsilon_1', 'zeta_1', 'e-z_1', 'chi_2', 'alpha_2','beta_2', 'gamma_2', 'delta_2', 'epsilon_2', 'zeta_2', 'e-z_2',  'v0_1', 'v1_1', 'v2_1', 'v3_1', 'v4_1', 'tm_1', 'P_1', 'ssZp_1', 'Dp_1', 'v0_2', 'v1_2', 'v2_2', 'v3_2', 'v4_2','tm_2', 'P_2', 'ssZp_2', 'Dp_2'].agg('std').reset_index()\n",
      "/home/_shared/package_dev/pynucl/pynucl/a_DNAparams.py:157: FutureWarning: Indexing with multiple keys (implicitly converted to a tuple of keys) will be deprecated, use a list instead.\n",
      "  self.df_min=self.df_series.groupby(['BPnum','BPnum_dyad','segid','resid'])['x','y','z','Shear','Stretch','Stagger','Buckle','Prop-Tw','Opening','Shift', 'Slide', 'Rise', 'Tilt', 'Roll', 'Twist','Pairing', 'chi_1', 'alpha_1', 'beta_1', 'gamma_1', 'delta_1','epsilon_1', 'zeta_1', 'e-z_1', 'chi_2', 'alpha_2','beta_2', 'gamma_2', 'delta_2', 'epsilon_2', 'zeta_2', 'e-z_2',  'v0_1', 'v1_1', 'v2_1', 'v3_1', 'v4_1', 'tm_1', 'P_1', 'ssZp_1', 'Dp_1', 'v0_2', 'v1_2', 'v2_2', 'v3_2', 'v4_2','tm_2', 'P_2', 'ssZp_2', 'Dp_2'].agg('min').reset_index()\n",
      "/home/_shared/package_dev/pynucl/pynucl/a_DNAparams.py:158: FutureWarning: Indexing with multiple keys (implicitly converted to a tuple of keys) will be deprecated, use a list instead.\n",
      "  self.df_max=self.df_series.groupby(['BPnum','BPnum_dyad','segid','resid'])['x','y','z','Shear','Stretch','Stagger','Buckle','Prop-Tw','Opening','Shift', 'Slide', 'Rise', 'Tilt', 'Roll', 'Twist','Pairing', 'chi_1', 'alpha_1', 'beta_1', 'gamma_1', 'delta_1','epsilon_1', 'zeta_1', 'e-z_1', 'chi_2', 'alpha_2','beta_2', 'gamma_2', 'delta_2', 'epsilon_2', 'zeta_2', 'e-z_2',  'v0_1', 'v1_1', 'v2_1', 'v3_1', 'v4_1', 'tm_1', 'P_1', 'ssZp_1', 'Dp_1', 'v0_2', 'v1_2', 'v2_2', 'v3_2', 'v4_2','tm_2', 'P_2', 'ssZp_2', 'Dp_2'].agg('max').reset_index()\n",
      "WARNING:root:ncp_dyad_locations ignored as linker_sequence or linker_lengths provided\n"
     ]
    }
   ],
   "source": [
    "self=Fiber_model(ncp_pdb_ids=['3LZ0','3LZ0','3LZ0'],\n",
    "                 linker_sequence='ATGCATGC')"
   ]
  },
  {
   "cell_type": "markdown",
   "metadata": {},
   "source": [
    "### Multiple nucelosomes and patterns"
   ]
  },
  {
   "cell_type": "code",
   "execution_count": 319,
   "metadata": {},
   "outputs": [
    {
     "name": "stderr",
     "output_type": "stream",
     "text": [
      "INFO:root:Started loading structures from RCSB\n",
      "INFO:root:Loading 1kx5\n"
     ]
    },
    {
     "name": "stdout",
     "output_type": "stream",
     "text": [
      "1 frames loaded for None\n"
     ]
    },
    {
     "name": "stderr",
     "output_type": "stream",
     "text": [
      "INFO:MDAnalysis.analysis.align:Moved mobile trajectory to in-memory representation\n"
     ]
    },
    {
     "data": {
      "application/vnd.jupyter.widget-view+json": {
       "model_id": "b7c07d458ad4418a83b365a76f4e32b1",
       "version_major": 2,
       "version_minor": 0
      },
      "text/plain": [
       "HBox(children=(FloatProgress(value=0.0, max=1.0), HTML(value='')))"
      ]
     },
     "metadata": {},
     "output_type": "display_data"
    },
    {
     "name": "stdout",
     "output_type": "stream",
     "text": [
      "\n"
     ]
    },
    {
     "name": "stderr",
     "output_type": "stream",
     "text": [
      "INFO:root:Loading 1aoi\n"
     ]
    },
    {
     "name": "stdout",
     "output_type": "stream",
     "text": [
      "1 frames loaded for None\n"
     ]
    },
    {
     "name": "stderr",
     "output_type": "stream",
     "text": [
      "INFO:MDAnalysis.analysis.align:Moved mobile trajectory to in-memory representation\n"
     ]
    },
    {
     "data": {
      "application/vnd.jupyter.widget-view+json": {
       "model_id": "e637550504cb4c8585101ebbd7046b3c",
       "version_major": 2,
       "version_minor": 0
      },
      "text/plain": [
       "HBox(children=(FloatProgress(value=0.0, max=1.0), HTML(value='')))"
      ]
     },
     "metadata": {},
     "output_type": "display_data"
    },
    {
     "name": "stdout",
     "output_type": "stream",
     "text": [
      "\n"
     ]
    },
    {
     "name": "stderr",
     "output_type": "stream",
     "text": [
      "INFO:root:Loading 3lz0\n"
     ]
    },
    {
     "name": "stdout",
     "output_type": "stream",
     "text": [
      "1 frames loaded for None\n"
     ]
    },
    {
     "name": "stderr",
     "output_type": "stream",
     "text": [
      "INFO:MDAnalysis.analysis.align:Moved mobile trajectory to in-memory representation\n"
     ]
    },
    {
     "data": {
      "application/vnd.jupyter.widget-view+json": {
       "model_id": "fe16586f15e64dd9bb7a468e125ebf5c",
       "version_major": 2,
       "version_minor": 0
      },
      "text/plain": [
       "HBox(children=(FloatProgress(value=0.0, max=1.0), HTML(value='')))"
      ]
     },
     "metadata": {},
     "output_type": "display_data"
    },
    {
     "name": "stdout",
     "output_type": "stream",
     "text": [
      "\n"
     ]
    },
    {
     "name": "stderr",
     "output_type": "stream",
     "text": [
      "WARNING:root:ncp_dyad_locations ignored as linker_sequence or linker_lengths provided\n"
     ]
    }
   ],
   "source": [
    "self=Fiber_model(ncp_pdb_ids=50*['3lz0','1aoi','1kx5'],linker_initial_model='bdna',\n",
    "                 linker_sequence='ATGCATATGCATATGC')"
   ]
  },
  {
   "cell_type": "markdown",
   "metadata": {},
   "source": [
    "## You can change the location afterwards"
   ]
  },
  {
   "cell_type": "code",
   "execution_count": 64,
   "metadata": {},
   "outputs": [],
   "source": [
    "self.place_ncps_on_fiber_by_linker_lengths(['3lz0','3lz0'],40)\n",
    "# or use place_ncps_on_fiber_by_dyad_pos"
   ]
  },
  {
   "cell_type": "code",
   "execution_count": 310,
   "metadata": {},
   "outputs": [
    {
     "name": "stdout",
     "output_type": "stream",
     "text": [
      "(138, 3)\n"
     ]
    },
    {
     "data": {
      "application/vnd.jupyter.widget-view+json": {
       "model_id": "5509f5a2ec3f4d42afff11326996e48f",
       "version_major": 2,
       "version_minor": 0
      },
      "text/plain": [
       "NGLWidget()"
      ]
     },
     "metadata": {},
     "output_type": "display_data"
    }
   ],
   "source": [
    "view=self.view_fiber(show_model=True)\n",
    "view\n"
   ]
  },
  {
   "cell_type": "code",
   "execution_count": 320,
   "metadata": {},
   "outputs": [
    {
     "data": {
      "text/plain": [
       "[{'a': ['ncp', 0], 'b': ['ncp', 50], 'dist': 110},\n",
       " {'a': ['ncp', 50], 'b': ['ncp', 100], 'dist': 110},\n",
       " {'a': ['ncp', 100], 'b': ['ncp', 149], 'dist': 110}]"
      ]
     },
     "execution_count": 320,
     "metadata": {},
     "output_type": "execute_result"
    }
   ],
   "source": [
    "self.add_restraint(0,50,110)\n",
    "self.add_restraint(50,100,110)\n",
    "self.add_restraint(100,149,110)\n",
    "self.restrains"
   ]
  },
  {
   "cell_type": "code",
   "execution_count": 321,
   "metadata": {},
   "outputs": [
    {
     "data": {
      "text/plain": [
       "(12275228.67470526,\n",
       " {'vdv': 182.46009707330245,\n",
       "  'e': 0.0,\n",
       "  'restr': 12267079.419493336,\n",
       "  'bend': 7966.795114851493})"
      ]
     },
     "execution_count": 321,
     "metadata": {},
     "output_type": "execute_result"
    }
   ],
   "source": [
    "self.get_energy(energy_dict={\n",
    "        'dna_r':5,'ncp_r':60,'misc_r':5,\n",
    "        'dna_eps':0.5,'ncp_eps':1,'misc_eps':0,\n",
    "        'dna_q':0,'ncp_q':0,'misc_q':0,\n",
    "        'K_excl':1,'K_elec':1,'K_dist':1,'K_bend':1})"
   ]
  },
  {
   "cell_type": "code",
   "execution_count": 271,
   "metadata": {},
   "outputs": [
    {
     "data": {
      "application/vnd.jupyter.widget-view+json": {
       "model_id": "59f2675fc65d4d6d802cd6b8c086be0b",
       "version_major": 2,
       "version_minor": 0
      },
      "text/plain": [
       "HBox(children=(FloatProgress(value=0.0, description='Macro cycles', max=10.0, style=ProgressStyle(description_…"
      ]
     },
     "metadata": {},
     "output_type": "display_data"
    },
    {
     "data": {
      "application/vnd.jupyter.widget-view+json": {
       "model_id": "00b609b794f94b6ba30d39daa01418d8",
       "version_major": 2,
       "version_minor": 0
      },
      "text/plain": [
       "HBox(children=(FloatProgress(value=0.0, description='Linker cycles', max=46.0, style=ProgressStyle(description…"
      ]
     },
     "metadata": {},
     "output_type": "display_data"
    },
    {
     "data": {
      "application/vnd.jupyter.widget-view+json": {
       "model_id": "ad0ca1428551440a8e3face28e804171",
       "version_major": 2,
       "version_minor": 0
      },
      "text/plain": [
       "HBox(children=(FloatProgress(value=1.0, bar_style='info', max=1.0), HTML(value='')))"
      ]
     },
     "metadata": {},
     "output_type": "display_data"
    },
    {
     "name": "stdout",
     "output_type": "stream",
     "text": [
      "\n"
     ]
    }
   ],
   "source": [
    "energy_dict={\n",
    "        'dna_r':5,'ncp_r':60,'misc_r':5,\n",
    "        'dna_eps':0.5,'ncp_eps':1,'misc_eps':0,\n",
    "        'dna_q':0,'ncp_q':0,'misc_q':0,\n",
    "        'K_excl':10,'K_elec':1,'K_dist':0.1,'K_bend':10}\n",
    "\n",
    "frames,energies=self.start_mc_by_linker(n_macrocycles=10,max_trials_per_linker=10,\n",
    "                                        KT=1,sigma_transl=0.5,sigma_rot=0.5,\n",
    "                                        energy_dict=energy_dict)"
   ]
  },
  {
   "cell_type": "code",
   "execution_count": 309,
   "metadata": {},
   "outputs": [
    {
     "name": "stdout",
     "output_type": "stream",
     "text": [
      "(138, 3)\n"
     ]
    },
    {
     "data": {
      "application/vnd.jupyter.widget-view+json": {
       "model_id": "ea9d8b49f2ae426990db67cba61a1e63",
       "version_major": 2,
       "version_minor": 0
      },
      "text/plain": [
       "NGLWidget()"
      ]
     },
     "metadata": {},
     "output_type": "display_data"
    }
   ],
   "source": [
    "view=self.view_fiber(bp_step_frame=frames[-1],show_model=True)\n",
    "view"
   ]
  },
  {
   "cell_type": "code",
   "execution_count": 338,
   "metadata": {},
   "outputs": [
    {
     "data": {
      "application/vnd.jupyter.widget-view+json": {
       "model_id": "065e125a4c8f4f58bafe57e03e63af29",
       "version_major": 2,
       "version_minor": 0
      },
      "text/plain": [
       "HBox(children=(FloatProgress(value=0.0, description='Macro cycles', max=250.0, style=ProgressStyle(description…"
      ]
     },
     "metadata": {},
     "output_type": "display_data"
    },
    {
     "data": {
      "application/vnd.jupyter.widget-view+json": {
       "model_id": "2fd9887e771549a2a8ab4f5643308356",
       "version_major": 2,
       "version_minor": 0
      },
      "text/plain": [
       "HBox(children=(FloatProgress(value=0.0, description='Linker cycles', max=151.0, style=ProgressStyle(descriptio…"
      ]
     },
     "metadata": {},
     "output_type": "display_data"
    },
    {
     "data": {
      "application/vnd.jupyter.widget-view+json": {
       "model_id": "304f74f520a9427e8d896466d6fd48f8",
       "version_major": 2,
       "version_minor": 0
      },
      "text/plain": [
       "HBox(children=(FloatProgress(value=0.0, description='Acceptance rate', style=ProgressStyle(description_width='…"
      ]
     },
     "metadata": {},
     "output_type": "display_data"
    },
    {
     "name": "stdout",
     "output_type": "stream",
     "text": [
      "\n"
     ]
    }
   ],
   "source": [
    "energy_dict={\n",
    "        'dna_r':5,'ncp_r':60,'misc_r':5,\n",
    "        'dna_eps':0.5,'ncp_eps':1,'misc_eps':0,\n",
    "        'dna_q':0,'ncp_q':0,'misc_q':0,\n",
    "        'K_excl':10,'K_elec':1,'K_dist':0.1,'K_bend':10}\n",
    "frames1,energies1=self.start_mc_by_linker(n_macrocycles=250,max_trials_per_linker=1,\n",
    "                                        KT=5,sigma_transl=0.5,sigma_rot=0.5,\n",
    "                                        energy_dict=energy_dict)"
   ]
  },
  {
   "cell_type": "code",
   "execution_count": 339,
   "metadata": {},
   "outputs": [
    {
     "name": "stdout",
     "output_type": "stream",
     "text": [
      "(453, 3)\n"
     ]
    },
    {
     "data": {
      "application/vnd.jupyter.widget-view+json": {
       "model_id": "4fe13a7ff4e0400796b8aca8cc02d582",
       "version_major": 2,
       "version_minor": 0
      },
      "text/plain": [
       "NGLWidget()"
      ]
     },
     "metadata": {},
     "output_type": "display_data"
    }
   ],
   "source": [
    "view=self.view_fiber(bp_step_frame=frames1[-1],show_model=True)\n",
    "view"
   ]
  },
  {
   "cell_type": "code",
   "execution_count": 340,
   "metadata": {},
   "outputs": [
    {
     "data": {
      "application/vnd.jupyter.widget-view+json": {
       "model_id": "17e148b26907485788168f7e8fdfa1be",
       "version_major": 2,
       "version_minor": 0
      },
      "text/plain": [
       "HBox(children=(FloatProgress(value=0.0, max=1825.0), HTML(value='')))"
      ]
     },
     "metadata": {},
     "output_type": "display_data"
    },
    {
     "name": "stdout",
     "output_type": "stream",
     "text": [
      "\n"
     ]
    },
    {
     "name": "stderr",
     "output_type": "stream",
     "text": [
      "INFO:MDAnalysis.analysis.align:Moved mobile trajectory to in-memory representation\n"
     ]
    }
   ],
   "source": [
    "\n",
    "\n",
    "from six import StringIO\n",
    "import MDAnalysis as mda\n",
    "from MDAnalysis.analysis import align\n",
    "def to_mda_traj(frame_traj):\n",
    "    linker_bp_index_list,linker_bp_coarse_index_list=get_linkers_bp_indexes(self.linker_mask)\n",
    "    pdb_string=''\n",
    "    frame=1\n",
    "    for bp_step_frame in tqdm(frame_traj):\n",
    "        cur_ref_frames=rebuild_by_full_par_frame_numba(bp_step_frame)\n",
    "        dna_beads,ncp_beads,misc_beads=self.get_all_beads_on_fiber(bp_step_frame,linker_bp_coarse_index_list)\n",
    "       \n",
    "        \n",
    "        num=1\n",
    "        pdb_string=pdb_string+'MODEL     %4s\\n'%frame\n",
    "        for row in cur_ref_frames[:,3,:3]/10:\n",
    "            pdb_string=pdb_string+\"ATOM  %5d  N   DNA A   1    %8.3f%8.3f%8.3f\\n\"%(num,row[0],row[1],row[2])\n",
    "            num+=1\n",
    "        for row in ncp_beads/10:            \n",
    "            pdb_string=pdb_string+\"ATOM  %5d  O   NUC B   1    %8.3f%8.3f%8.3f\\n\"%(num,row[0],row[1],row[2])\n",
    "            num+=1\n",
    "        pdb_string=pdb_string+\"ENDMDL\\n\"\n",
    "        frame+=1\n",
    "    u = mda.Universe(StringIO(pdb_string),format='pdb')\n",
    "    alignment = align.AlignTraj(u, u,in_memory=True)\n",
    "    alignment.run()\n",
    "    return(u)\n",
    "u=to_mda_traj(frames1)"
   ]
  },
  {
   "cell_type": "code",
   "execution_count": 341,
   "metadata": {},
   "outputs": [
    {
     "data": {
      "application/vnd.jupyter.widget-view+json": {
       "model_id": "a6ae6224adc5400ab19d2ce34ccaad26",
       "version_major": 2,
       "version_minor": 0
      },
      "text/plain": [
       "NGLWidget(max_frame=1824)"
      ]
     },
     "metadata": {},
     "output_type": "display_data"
    }
   ],
   "source": [
    "import nglview as nv\n",
    "view=nv.show_mdanalysis(u)\n",
    "view.add_spacefill('NUC',radius=4)\n",
    "view"
   ]
  },
  {
   "cell_type": "code",
   "execution_count": 293,
   "metadata": {},
   "outputs": [
    {
     "data": {
      "application/vnd.jupyter.widget-view+json": {
       "model_id": "54e02a002d4f402fb185f770f4d7595b",
       "version_major": 2,
       "version_minor": 0
      },
      "text/plain": [
       "IntProgress(value=0, description='Rendering ...', max=261)"
      ]
     },
     "metadata": {},
     "output_type": "display_data"
    }
   ],
   "source": [
    "from nglview.contrib.movie import MovieMaker\n",
    "movie = MovieMaker(view, output='my.gif')\n",
    "movie.make()"
   ]
  },
  {
   "cell_type": "code",
   "execution_count": 296,
   "metadata": {},
   "outputs": [
    {
     "name": "stdout",
     "output_type": "stream",
     "text": [
      "ffmpeg version 4.1.3 Copyright (c) 2000-2019 the FFmpeg developers\n",
      "  built with gcc 7.3.0 (crosstool-NG 1.23.0.449-a04d0)\n",
      "  configuration: --prefix=/opt/miniconda3/envs/moldyn --cc=/home/conda/feedstock_root/build_artifacts/ffmpeg_1556785800657/_build_env/bin/x86_64-conda_cos6-linux-gnu-cc --disable-doc --disable-openssl --enable-avresample --enable-gnutls --enable-gpl --enable-hardcoded-tables --enable-libfreetype --enable-libopenh264 --enable-libx264 --enable-pic --enable-pthreads --enable-shared --enable-static --enable-version3 --enable-zlib --enable-libmp3lame\n",
      "  libavutil      56. 22.100 / 56. 22.100\n",
      "  libavcodec     58. 35.100 / 58. 35.100\n",
      "  libavformat    58. 20.100 / 58. 20.100\n",
      "  libavdevice    58.  5.100 / 58.  5.100\n",
      "  libavfilter     7. 40.101 /  7. 40.101\n",
      "  libavresample   4.  0.  0 /  4.  0.  0\n",
      "  libswscale      5.  3.100 /  5.  3.100\n",
      "  libswresample   3.  3.100 /  3.  3.100\n",
      "  libpostproc    55.  3.100 / 55.  3.100\n",
      "Input #0, gif, from 'my.gif':\n",
      "  Duration: N/A, bitrate: N/A\n",
      "    Stream #0:0: Video: gif, bgra, 598x491, 7.67 fps, 7.69 tbr, 100 tbn, 100 tbc\n",
      "Stream mapping:\n",
      "  Stream #0:0 -> #0:0 (gif (native) -> h264 (libx264))\n",
      "Press [q] to stop, [?] for help\n",
      "\u001b[1;36m[libx264 @ 0x564ff8e19080] \u001b[0musing cpu capabilities: MMX2 SSE2Fast SSSE3 SSE4.2 AVX FMA3 BMI2 AVX2\n",
      "\u001b[1;36m[libx264 @ 0x564ff8e19080] \u001b[0mprofile High 4:4:4 Predictive, level 2.2, 4:4:4 8-bit\n",
      "\u001b[1;36m[libx264 @ 0x564ff8e19080] \u001b[0m264 - core 152 - H.264/MPEG-4 AVC codec - Copyleft 2003-2017 - http://www.videolan.org/x264.html - options: cabac=1 ref=3 deblock=1:0:0 analyse=0x1:0x111 me=hex subme=7 psy=1 psy_rd=1.00:0.00 mixed_ref=1 me_range=16 chroma_me=1 trellis=1 8x8dct=0 cqm=0 deadzone=21,11 fast_pskip=1 chroma_qp_offset=4 threads=15 lookahead_threads=2 sliced_threads=0 nr=0 decimate=1 interlaced=0 bluray_compat=0 constrained_intra=0 bframes=3 b_pyramid=2 b_adapt=1 b_bias=0 direct=1 weightb=1 open_gop=0 weightp=2 keyint=250 keyint_min=7 scenecut=40 intra_refresh=0 rc_lookahead=40 rc=crf mbtree=1 crf=23.0 qcomp=0.60 qpmin=0 qpmax=69 qpstep=4 ip_ratio=1.40 aq=1:1.00\n",
      "Output #0, mp4, to 'fiber.mp4':\n",
      "  Metadata:\n",
      "    encoder         : Lavf58.20.100\n",
      "    Stream #0:0: Video: h264 (libx264) (avc1 / 0x31637661), yuv444p, 598x491, q=-1--1, 7.69 fps, 12800 tbn, 7.69 tbc\n",
      "    Metadata:\n",
      "      encoder         : Lavc58.35.100 libx264\n",
      "    Side data:\n",
      "      cpb: bitrate max/min/avg: 0/0/0 buffer size: 0 vbv_delay: -1\n",
      "frame=  262 fps=208 q=-1.0 Lsize=    2480kB time=00:00:33.67 bitrate= 603.5kbits/s speed=26.7x    \n",
      "video:2477kB audio:0kB subtitle:0kB other streams:0kB global headers:0kB muxing overhead: 0.157021%\n",
      "\u001b[1;36m[libx264 @ 0x564ff8e19080] \u001b[0mframe I:2     Avg QP: 6.36  size: 30045\n",
      "\u001b[1;36m[libx264 @ 0x564ff8e19080] \u001b[0mframe P:67    Avg QP:12.43  size: 15986\n",
      "\u001b[1;36m[libx264 @ 0x564ff8e19080] \u001b[0mframe B:193   Avg QP:22.65  size:  7275\n",
      "\u001b[1;36m[libx264 @ 0x564ff8e19080] \u001b[0mconsecutive B-frames:  1.1%  0.8%  3.4% 94.7%\n",
      "\u001b[1;36m[libx264 @ 0x564ff8e19080] \u001b[0mmb I  I16..4: 83.5%  0.0% 16.5%\n",
      "\u001b[1;36m[libx264 @ 0x564ff8e19080] \u001b[0mmb P  I16..4:  2.1%  0.0%  0.6%  P16..4:  3.2%  4.4%  8.7%  0.0%  0.0%    skip:81.1%\n",
      "\u001b[1;36m[libx264 @ 0x564ff8e19080] \u001b[0mmb B  I16..4:  0.1%  0.0%  0.0%  B16..8:  6.5%  4.9%  5.2%  direct: 1.9%  skip:81.4%  L0:43.6% L1:36.8% BI:19.6%\n",
      "\u001b[1;36m[libx264 @ 0x564ff8e19080] \u001b[0mcoded y,u,v intra: 15.1% 14.6% 14.4% inter: 8.8% 7.2% 6.2%\n",
      "\u001b[1;36m[libx264 @ 0x564ff8e19080] \u001b[0mi16 v,h,dc,p: 85%  9%  5%  0%\n",
      "\u001b[1;36m[libx264 @ 0x564ff8e19080] \u001b[0mi4 v,h,dc,ddl,ddr,vr,hd,vl,hu: 17% 15% 24%  7%  7%  8%  8%  7%  7%\n",
      "\u001b[1;36m[libx264 @ 0x564ff8e19080] \u001b[0mWeighted P-Frames: Y:0.0% UV:0.0%\n",
      "\u001b[1;36m[libx264 @ 0x564ff8e19080] \u001b[0mref P L0: 43.3% 12.5% 25.0% 19.1%\n",
      "\u001b[1;36m[libx264 @ 0x564ff8e19080] \u001b[0mref B L0: 73.0% 20.6%  6.5%\n",
      "\u001b[1;36m[libx264 @ 0x564ff8e19080] \u001b[0mref B L1: 88.1% 11.9%\n",
      "\u001b[1;36m[libx264 @ 0x564ff8e19080] \u001b[0mkb/s:595.49\n"
     ]
    }
   ],
   "source": [
    "!ffmpeg -i my.gif  fiber.mp4"
   ]
  }
 ],
 "metadata": {
  "kernelspec": {
   "display_name": "Python [conda env:moldyn]",
   "language": "python",
   "name": "conda-env-moldyn-py"
  },
  "language_info": {
   "codemirror_mode": {
    "name": "ipython",
    "version": 3
   },
   "file_extension": ".py",
   "mimetype": "text/x-python",
   "name": "python",
   "nbconvert_exporter": "python",
   "pygments_lexer": "ipython3",
   "version": "3.7.3"
  }
 },
 "nbformat": 4,
 "nbformat_minor": 4
}
