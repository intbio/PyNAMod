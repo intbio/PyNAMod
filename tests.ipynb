{
 "cells": [
  {
   "cell_type": "code",
   "execution_count": 1,
   "id": "b8e26f2c-dfc8-4d90-9213-fa5268519c38",
   "metadata": {
    "tags": []
   },
   "outputs": [
    {
     "name": "stderr",
     "output_type": "stream",
     "text": [
      "/home/v_vasilev/.conda/envs/pynamod_new/lib/python3.12/site-packages/ipywidgets/widgets/widget.py:503: DeprecationWarning: The `ipykernel.comm.Comm` class has been deprecated. Please use the `comm` module instead.For creating comms, use the function `from comm import create_comm`.\n",
      "  self.comm = Comm(**args)\n",
      "/home/v_vasilev/.conda/envs/pynamod_new/lib/python3.12/site-packages/ipywidgets/widgets/widget.py:503: DeprecationWarning: The `ipykernel.comm.Comm` class has been deprecated. Please use the `comm` module instead.For creating comms, use the function `from comm import create_comm`.\n",
      "  self.comm = Comm(**args)\n"
     ]
    },
    {
     "data": {
      "application/vnd.jupyter.widget-view+json": {
       "model_id": "d76b48c5fd31470daf9a4ada275c5a17",
       "version_major": 2,
       "version_minor": 0
      },
      "text/plain": []
     },
     "metadata": {},
     "output_type": "display_data"
    },
    {
     "name": "stderr",
     "output_type": "stream",
     "text": [
      "/home/v_vasilev/.conda/envs/pynamod_new/lib/python3.12/site-packages/MDAnalysis/topology/PDBParser.py:331: UserWarning: Element information is missing, elements attribute will not be populated. If needed these can be guessed using MDAnalysis.topology.guessers.\n",
      "  warnings.warn(\"Element information is missing, elements attribute \"\n"
     ]
    }
   ],
   "source": [
    "%load_ext autoreload\n",
    "%autoreload 2\n",
    "import pynamod\n",
    "import numpy as np\n",
    "import pandas as pd\n",
    "import MDAnalysis as mda\n",
    "import nglview as nv\n",
    "import itertools\n",
    "from numba import jit\n",
    "import copy"
   ]
  },
  {
   "cell_type": "code",
   "execution_count": 2,
   "id": "1c4c32d9-ba88-4b67-b00e-333ecf22c11b",
   "metadata": {
    "tags": []
   },
   "outputs": [],
   "source": [
    "import warnings\n",
    "warnings.filterwarnings('ignore')"
   ]
  },
  {
   "cell_type": "code",
   "execution_count": 3,
   "id": "5949ce82-8d1f-4156-8c45-89db98f6ac21",
   "metadata": {},
   "outputs": [
    {
     "name": "stdout",
     "output_type": "stream",
     "text": [
      "Sending GET request to https://files.rcsb.org/download/3LZ0.pdb to fetch 3LZ0's pdb file as a string.\n"
     ]
    }
   ],
   "source": [
    "nucl = pynamod.DNA_structure_from_atomic(pdb_id='3LZ0',leading_strands=['I'])"
   ]
  },
  {
   "cell_type": "code",
   "execution_count": 4,
   "id": "b72fbad0-9578-4c6d-abd2-0ee6e60a8269",
   "metadata": {
    "tags": []
   },
   "outputs": [],
   "source": [
    "nucl.analyze_DNA()"
   ]
  },
  {
   "cell_type": "code",
   "execution_count": 5,
   "id": "918eed2e-cf18-45f0-aecc-c519e947dd87",
   "metadata": {
    "tags": []
   },
   "outputs": [
    {
     "name": "stdout",
     "output_type": "stream",
     "text": [
      "[[ 35.84986863   7.92918331 -13.32614108]\n",
      " [ 65.49836972  -8.3934404    5.45107891]\n",
      " [ 68.98541382  26.16405216   5.61804262]\n",
      " [ 44.07350291  18.45744568   2.8796968 ]\n",
      " [ 56.30823907  21.70385317  14.94109553]\n",
      " [ 50.75735465 -11.08906742 -17.9116746 ]\n",
      " [ 24.82907001  -8.30798765 -19.49813012]\n",
      " [ 27.85616197  -4.68384858   0.42389547]\n",
      " [ 36.27321348  15.65324928  14.19243089]\n",
      " [ 53.47182764 -11.5064807    1.80331971]\n",
      " [ 41.56138031 -24.14079929 -21.20831111]\n",
      " [ 24.52511335   1.38818497 -23.10619295]\n",
      " [  9.79660652  -7.62828349 -26.46685393]\n",
      " [ 68.59374679 -25.68642732  -6.6941959 ]\n",
      " [ 44.22006002  -4.70053165  24.6497283 ]\n",
      " [ 39.00993523  19.07476241 -23.29676598]\n",
      " [ 15.62089671  -9.72754026 -11.9414201 ]\n",
      " [ 18.25076517  10.87992217  15.765493  ]\n",
      " [ 68.31892836   3.18735046  -5.05603398]\n",
      " [ 34.15271953   9.96775972 -26.14905894]\n",
      " [ 63.39376645   9.2264964   19.8040333 ]\n",
      " [ 39.98135797 -16.64437493  -8.4147612 ]\n",
      " [ 21.52407611   9.23316819 -16.08613738]\n",
      " [ 48.38443329   6.19047261   9.12922444]\n",
      " [ 53.45970501  -8.16229717  15.50614825]\n",
      " [ 63.78814084 -10.853321   -16.1358105 ]\n",
      " [ 41.010595    -8.58804524  13.18809786]\n",
      " [ 52.14130596  12.16234943 -22.53876304]\n",
      " [ 67.00506706  13.60598934   5.62311754]\n",
      " [ 16.04499159   1.1962897    4.42537595]\n",
      " [ 24.02401506  -0.56009803  22.36550186]\n",
      " [ 63.77569211 -15.50671156  -4.08716359]\n",
      " [ 46.09665971   9.75938945  19.64949058]\n",
      " [ 43.23373572  23.74633701  20.78834795]\n",
      " [ 46.01120662  -2.83982471  -8.92087563]\n",
      " [ 52.28110654 -23.73343408   0.67589756]\n",
      " [ 39.44810044 -10.58658999 -19.31140182]\n",
      " [ 57.885427     6.6447403   -7.00556613]\n",
      " [ 51.40725714  15.50940318 -12.84565425]\n",
      " [ 27.51927797   8.14969839  22.71015829]\n",
      " [ 48.09557197   2.33003261 -19.73474779]\n",
      " [ 58.64043998  19.83987309  -1.21166814]\n",
      " [ 31.00255052 -10.20802264  22.75121156]\n",
      " [  9.61977129  10.70945626  25.98479953]\n",
      " [ 55.91269372 -21.25067968 -17.29131724]\n",
      " [ 46.48155082 -17.87521299  22.10893453]\n",
      " [ 19.39376908   1.09301945  -7.82067959]\n",
      " [ 19.26420691  -6.10692003  14.54610611]\n",
      " [ 32.19758916   7.82743354  -1.78765966]\n",
      " [ 32.32406866   0.66096368  13.49323753]]\n"
     ]
    }
   ],
   "source": [
    "nucl.analyze_protein()"
   ]
  },
  {
   "cell_type": "code",
   "execution_count": 6,
   "id": "ac1027c6-c391-4aa0-8e26-064bc35fd5f8",
   "metadata": {
    "tags": []
   },
   "outputs": [],
   "source": [
    "nucl.move_to_coord_center()"
   ]
  },
  {
   "cell_type": "code",
   "execution_count": 10,
   "id": "fcd986b4-5ea7-4a84-a8eb-e871295c52ef",
   "metadata": {
    "tags": []
   },
   "outputs": [
    {
     "data": {
      "text/plain": [
       "array([-2.2830997 ,  1.96150005,  3.69659982, -1.04089964,  0.16680005,\n",
       "        1.97720009,  2.41500007, -0.56679965, -0.56379986, -0.28509979,\n",
       "        0.05439994,  3.59470043,  4.94570018,  2.74509995,  2.91720004,\n",
       "        1.85349995,  0.51029997,  3.69420006,  0.09920008,  1.28300027,\n",
       "        5.24560032, -1.88219971,  0.04760018, -3.10020007,  0.79389994,\n",
       "        4.03630027,  0.62680012,  2.42650008,  3.02960013,  1.93949999,\n",
       "        2.67380029,  2.09210018,  2.42040014,  0.7591    , -1.20340008,\n",
       "        0.46270008,  2.87920015, -3.03979971,  2.55520017,  1.14940013,\n",
       "        1.48839997,  1.79869972,  3.28540041,  4.2030001 ,  1.8915    ,\n",
       "       -0.10260005,  4.50469998,  2.01140011,  0.84300017, -3.01029977])"
      ]
     },
     "execution_count": 10,
     "metadata": {},
     "output_type": "execute_result"
    }
   ],
   "source": [
    "nucl.proteins[0].cg_charges"
   ]
  },
  {
   "cell_type": "code",
   "execution_count": 8,
   "id": "99adb4eb-cf09-492a-917b-3c568961d1f2",
   "metadata": {
    "tags": []
   },
   "outputs": [
    {
     "data": {
      "application/vnd.jupyter.widget-view+json": {
       "model_id": "05d35671369c49b0995438980a397968",
       "version_major": 2,
       "version_minor": 0
      },
      "text/plain": [
       "NGLWidget()"
      ]
     },
     "metadata": {},
     "output_type": "display_data"
    }
   ],
   "source": [
    "nucl.view_structure()"
   ]
  },
  {
   "cell_type": "code",
   "execution_count": 447,
   "id": "239b5f2c-62a2-4930-9d5f-48437e92bbd7",
   "metadata": {
    "tags": []
   },
   "outputs": [
    {
     "data": {
      "text/html": [
       "<div>\n",
       "<style scoped>\n",
       "    .dataframe tbody tr th:only-of-type {\n",
       "        vertical-align: middle;\n",
       "    }\n",
       "\n",
       "    .dataframe tbody tr th {\n",
       "        vertical-align: top;\n",
       "    }\n",
       "\n",
       "    .dataframe thead th {\n",
       "        text-align: right;\n",
       "    }\n",
       "</style>\n",
       "<table border=\"1\" class=\"dataframe\">\n",
       "  <thead>\n",
       "    <tr style=\"text-align: right;\">\n",
       "      <th></th>\n",
       "      <th>resid1</th>\n",
       "      <th>segid1</th>\n",
       "      <th>restype1</th>\n",
       "      <th>restype2</th>\n",
       "      <th>segid2</th>\n",
       "      <th>resid2</th>\n",
       "      <th>Shear</th>\n",
       "      <th>Stretch</th>\n",
       "      <th>Stagger</th>\n",
       "      <th>Buckle</th>\n",
       "      <th>Prop-Tw</th>\n",
       "      <th>Opening</th>\n",
       "      <th>Shift</th>\n",
       "      <th>Slide</th>\n",
       "      <th>Rise</th>\n",
       "      <th>Tilt</th>\n",
       "      <th>Roll</th>\n",
       "      <th>Twist</th>\n",
       "    </tr>\n",
       "  </thead>\n",
       "  <tbody>\n",
       "    <tr>\n",
       "      <th>0</th>\n",
       "      <td>-72</td>\n",
       "      <td>I</td>\n",
       "      <td>A</td>\n",
       "      <td>T</td>\n",
       "      <td>J</td>\n",
       "      <td>72</td>\n",
       "      <td>0.097097</td>\n",
       "      <td>0.121459</td>\n",
       "      <td>1.045064</td>\n",
       "      <td>14.008287</td>\n",
       "      <td>-8.186396</td>\n",
       "      <td>-18.747150</td>\n",
       "      <td>0.000000</td>\n",
       "      <td>0.000000</td>\n",
       "      <td>0.000000</td>\n",
       "      <td>0.000000</td>\n",
       "      <td>0.000000</td>\n",
       "      <td>0.000000</td>\n",
       "    </tr>\n",
       "    <tr>\n",
       "      <th>1</th>\n",
       "      <td>-71</td>\n",
       "      <td>I</td>\n",
       "      <td>T</td>\n",
       "      <td>A</td>\n",
       "      <td>J</td>\n",
       "      <td>71</td>\n",
       "      <td>0.616557</td>\n",
       "      <td>-0.423763</td>\n",
       "      <td>0.366543</td>\n",
       "      <td>-3.207604</td>\n",
       "      <td>-21.722571</td>\n",
       "      <td>-8.927834</td>\n",
       "      <td>-0.103346</td>\n",
       "      <td>-1.031617</td>\n",
       "      <td>4.009800</td>\n",
       "      <td>5.432016</td>\n",
       "      <td>-2.159719</td>\n",
       "      <td>37.183770</td>\n",
       "    </tr>\n",
       "    <tr>\n",
       "      <th>2</th>\n",
       "      <td>-70</td>\n",
       "      <td>I</td>\n",
       "      <td>C</td>\n",
       "      <td>G</td>\n",
       "      <td>J</td>\n",
       "      <td>70</td>\n",
       "      <td>0.833555</td>\n",
       "      <td>0.265378</td>\n",
       "      <td>1.064210</td>\n",
       "      <td>-28.183521</td>\n",
       "      <td>-17.827698</td>\n",
       "      <td>10.565053</td>\n",
       "      <td>1.007070</td>\n",
       "      <td>-0.137341</td>\n",
       "      <td>3.687516</td>\n",
       "      <td>-0.260508</td>\n",
       "      <td>-0.061271</td>\n",
       "      <td>41.364948</td>\n",
       "    </tr>\n",
       "    <tr>\n",
       "      <th>3</th>\n",
       "      <td>-69</td>\n",
       "      <td>I</td>\n",
       "      <td>A</td>\n",
       "      <td>T</td>\n",
       "      <td>J</td>\n",
       "      <td>69</td>\n",
       "      <td>0.628470</td>\n",
       "      <td>-0.224859</td>\n",
       "      <td>-0.341789</td>\n",
       "      <td>-14.207446</td>\n",
       "      <td>-18.915283</td>\n",
       "      <td>-9.267536</td>\n",
       "      <td>-0.740422</td>\n",
       "      <td>0.309669</td>\n",
       "      <td>2.985010</td>\n",
       "      <td>7.616249</td>\n",
       "      <td>11.300466</td>\n",
       "      <td>28.885169</td>\n",
       "    </tr>\n",
       "    <tr>\n",
       "      <th>4</th>\n",
       "      <td>-68</td>\n",
       "      <td>I</td>\n",
       "      <td>G</td>\n",
       "      <td>C</td>\n",
       "      <td>J</td>\n",
       "      <td>68</td>\n",
       "      <td>-0.782726</td>\n",
       "      <td>-0.361822</td>\n",
       "      <td>0.376319</td>\n",
       "      <td>-0.182252</td>\n",
       "      <td>-13.276127</td>\n",
       "      <td>9.313960</td>\n",
       "      <td>1.459504</td>\n",
       "      <td>-0.116359</td>\n",
       "      <td>3.047685</td>\n",
       "      <td>-5.397753</td>\n",
       "      <td>-4.828530</td>\n",
       "      <td>32.891446</td>\n",
       "    </tr>\n",
       "    <tr>\n",
       "      <th>...</th>\n",
       "      <td>...</td>\n",
       "      <td>...</td>\n",
       "      <td>...</td>\n",
       "      <td>...</td>\n",
       "      <td>...</td>\n",
       "      <td>...</td>\n",
       "      <td>...</td>\n",
       "      <td>...</td>\n",
       "      <td>...</td>\n",
       "      <td>...</td>\n",
       "      <td>...</td>\n",
       "      <td>...</td>\n",
       "      <td>...</td>\n",
       "      <td>...</td>\n",
       "      <td>...</td>\n",
       "      <td>...</td>\n",
       "      <td>...</td>\n",
       "      <td>...</td>\n",
       "    </tr>\n",
       "    <tr>\n",
       "      <th>140</th>\n",
       "      <td>68</td>\n",
       "      <td>I</td>\n",
       "      <td>T</td>\n",
       "      <td>A</td>\n",
       "      <td>J</td>\n",
       "      <td>-68</td>\n",
       "      <td>-0.792183</td>\n",
       "      <td>-0.256568</td>\n",
       "      <td>-0.150800</td>\n",
       "      <td>-17.477464</td>\n",
       "      <td>-8.907526</td>\n",
       "      <td>-2.940552</td>\n",
       "      <td>0.317223</td>\n",
       "      <td>0.315937</td>\n",
       "      <td>3.053923</td>\n",
       "      <td>0.281955</td>\n",
       "      <td>-1.353624</td>\n",
       "      <td>32.618715</td>\n",
       "    </tr>\n",
       "    <tr>\n",
       "      <th>141</th>\n",
       "      <td>69</td>\n",
       "      <td>I</td>\n",
       "      <td>C</td>\n",
       "      <td>G</td>\n",
       "      <td>J</td>\n",
       "      <td>-69</td>\n",
       "      <td>0.400506</td>\n",
       "      <td>0.254092</td>\n",
       "      <td>0.207221</td>\n",
       "      <td>-13.002930</td>\n",
       "      <td>-22.554792</td>\n",
       "      <td>13.191512</td>\n",
       "      <td>0.557327</td>\n",
       "      <td>1.586954</td>\n",
       "      <td>3.321717</td>\n",
       "      <td>1.464002</td>\n",
       "      <td>-5.845326</td>\n",
       "      <td>45.378707</td>\n",
       "    </tr>\n",
       "    <tr>\n",
       "      <th>142</th>\n",
       "      <td>70</td>\n",
       "      <td>I</td>\n",
       "      <td>G</td>\n",
       "      <td>C</td>\n",
       "      <td>J</td>\n",
       "      <td>-70</td>\n",
       "      <td>-0.297763</td>\n",
       "      <td>-0.296159</td>\n",
       "      <td>0.543946</td>\n",
       "      <td>-0.396752</td>\n",
       "      <td>-3.938952</td>\n",
       "      <td>-2.735247</td>\n",
       "      <td>0.108807</td>\n",
       "      <td>0.536010</td>\n",
       "      <td>2.799119</td>\n",
       "      <td>-5.863605</td>\n",
       "      <td>9.525713</td>\n",
       "      <td>27.927832</td>\n",
       "    </tr>\n",
       "    <tr>\n",
       "      <th>143</th>\n",
       "      <td>71</td>\n",
       "      <td>I</td>\n",
       "      <td>A</td>\n",
       "      <td>T</td>\n",
       "      <td>J</td>\n",
       "      <td>-71</td>\n",
       "      <td>-0.363076</td>\n",
       "      <td>0.392318</td>\n",
       "      <td>-0.576545</td>\n",
       "      <td>-14.754146</td>\n",
       "      <td>-19.957727</td>\n",
       "      <td>-11.636812</td>\n",
       "      <td>-0.600595</td>\n",
       "      <td>-0.435970</td>\n",
       "      <td>3.632289</td>\n",
       "      <td>4.446861</td>\n",
       "      <td>5.686760</td>\n",
       "      <td>41.164965</td>\n",
       "    </tr>\n",
       "    <tr>\n",
       "      <th>144</th>\n",
       "      <td>72</td>\n",
       "      <td>I</td>\n",
       "      <td>T</td>\n",
       "      <td>A</td>\n",
       "      <td>J</td>\n",
       "      <td>-72</td>\n",
       "      <td>0.680343</td>\n",
       "      <td>-0.316998</td>\n",
       "      <td>-0.665348</td>\n",
       "      <td>6.820047</td>\n",
       "      <td>9.451186</td>\n",
       "      <td>-15.719343</td>\n",
       "      <td>0.330076</td>\n",
       "      <td>-0.258803</td>\n",
       "      <td>3.027171</td>\n",
       "      <td>-4.173158</td>\n",
       "      <td>-7.478028</td>\n",
       "      <td>42.067273</td>\n",
       "    </tr>\n",
       "  </tbody>\n",
       "</table>\n",
       "<p>145 rows × 18 columns</p>\n",
       "</div>"
      ],
      "text/plain": [
       "     resid1 segid1 restype1 restype2 segid2  resid2     Shear   Stretch  \\\n",
       "0       -72      I        A        T      J      72  0.097097  0.121459   \n",
       "1       -71      I        T        A      J      71  0.616557 -0.423763   \n",
       "2       -70      I        C        G      J      70  0.833555  0.265378   \n",
       "3       -69      I        A        T      J      69  0.628470 -0.224859   \n",
       "4       -68      I        G        C      J      68 -0.782726 -0.361822   \n",
       "..      ...    ...      ...      ...    ...     ...       ...       ...   \n",
       "140      68      I        T        A      J     -68 -0.792183 -0.256568   \n",
       "141      69      I        C        G      J     -69  0.400506  0.254092   \n",
       "142      70      I        G        C      J     -70 -0.297763 -0.296159   \n",
       "143      71      I        A        T      J     -71 -0.363076  0.392318   \n",
       "144      72      I        T        A      J     -72  0.680343 -0.316998   \n",
       "\n",
       "      Stagger     Buckle    Prop-Tw    Opening     Shift     Slide      Rise  \\\n",
       "0    1.045064  14.008287  -8.186396 -18.747150  0.000000  0.000000  0.000000   \n",
       "1    0.366543  -3.207604 -21.722571  -8.927834 -0.103346 -1.031617  4.009800   \n",
       "2    1.064210 -28.183521 -17.827698  10.565053  1.007070 -0.137341  3.687516   \n",
       "3   -0.341789 -14.207446 -18.915283  -9.267536 -0.740422  0.309669  2.985010   \n",
       "4    0.376319  -0.182252 -13.276127   9.313960  1.459504 -0.116359  3.047685   \n",
       "..        ...        ...        ...        ...       ...       ...       ...   \n",
       "140 -0.150800 -17.477464  -8.907526  -2.940552  0.317223  0.315937  3.053923   \n",
       "141  0.207221 -13.002930 -22.554792  13.191512  0.557327  1.586954  3.321717   \n",
       "142  0.543946  -0.396752  -3.938952  -2.735247  0.108807  0.536010  2.799119   \n",
       "143 -0.576545 -14.754146 -19.957727 -11.636812 -0.600595 -0.435970  3.632289   \n",
       "144 -0.665348   6.820047   9.451186 -15.719343  0.330076 -0.258803  3.027171   \n",
       "\n",
       "         Tilt       Roll      Twist  \n",
       "0    0.000000   0.000000   0.000000  \n",
       "1    5.432016  -2.159719  37.183770  \n",
       "2   -0.260508  -0.061271  41.364948  \n",
       "3    7.616249  11.300466  28.885169  \n",
       "4   -5.397753  -4.828530  32.891446  \n",
       "..        ...        ...        ...  \n",
       "140  0.281955  -1.353624  32.618715  \n",
       "141  1.464002  -5.845326  45.378707  \n",
       "142 -5.863605   9.525713  27.927832  \n",
       "143  4.446861   5.686760  41.164965  \n",
       "144 -4.173158  -7.478028  42.067273  \n",
       "\n",
       "[145 rows x 18 columns]"
      ]
     },
     "execution_count": 447,
     "metadata": {},
     "output_type": "execute_result"
    }
   ],
   "source": [
    "nucl.get_DataFrame()"
   ]
  },
  {
   "cell_type": "code",
   "execution_count": 486,
   "id": "fdee2bf0-6a60-4b5d-9589-c8875f483cba",
   "metadata": {},
   "outputs": [],
   "source": [
    "dna_gen = pynamod.DNA_structure_generated('atcg'*15)"
   ]
  },
  {
   "cell_type": "code",
   "execution_count": 482,
   "id": "0bc559d4-88f4-49c3-9e7a-79c2ccb62193",
   "metadata": {
    "tags": []
   },
   "outputs": [
    {
     "name": "stdout",
     "output_type": "stream",
     "text": [
      "Sending GET request to https://files.rcsb.org/download/3LZ0.pdb to fetch 3LZ0's pdb file as a string.\n"
     ]
    }
   ],
   "source": [
    "nucl_temp = pynamod.DNA_structure_from_atomic(pdb_id='3LZ0',leading_strands=['I'])\n",
    "nucl_temp.analyze_DNA()\n",
    "nucl_temp.analyze_protein()"
   ]
  },
  {
   "cell_type": "code",
   "execution_count": 489,
   "id": "1a0b1350-84bb-4147-a7fe-21762c597d1d",
   "metadata": {
    "tags": []
   },
   "outputs": [],
   "source": [
    "nucl.append_structures((dna_gen,nucl_temp))"
   ]
  },
  {
   "cell_type": "code",
   "execution_count": 331,
   "id": "f23647a0-f0f0-44eb-9ba2-83e0244a913a",
   "metadata": {
    "collapsed": true,
    "jupyter": {
     "outputs_hidden": true
    },
    "tags": []
   },
   "outputs": [
    {
     "data": {
      "application/vnd.jupyter.widget-view+json": {
       "model_id": "a93d3068c4e94f36ab07abde884c80c9",
       "version_major": 2,
       "version_minor": 0
      },
      "text/plain": [
       "NGLWidget()"
      ]
     },
     "metadata": {},
     "output_type": "display_data"
    }
   ],
   "source": [
    "nucl.view_structure()"
   ]
  },
  {
   "cell_type": "code",
   "execution_count": 488,
   "id": "07ebbb00-ad1f-48b2-a185-16109a633cb6",
   "metadata": {
    "tags": []
   },
   "outputs": [
    {
     "ename": "AttributeError",
     "evalue": "'DNA_structure_from_atomic' object has no attribute 'copy'",
     "output_type": "error",
     "traceback": [
      "\u001b[0;31m---------------------------------------------------------------------------\u001b[0m",
      "\u001b[0;31mAttributeError\u001b[0m                            Traceback (most recent call last)",
      "Cell \u001b[0;32mIn[488], line 1\u001b[0m\n\u001b[0;32m----> 1\u001b[0m nucl\u001b[38;5;241m.\u001b[39mcopy()\n",
      "\u001b[0;31mAttributeError\u001b[0m: 'DNA_structure_from_atomic' object has no attribute 'copy'"
     ]
    }
   ],
   "source": [
    "nucl.copy()"
   ]
  },
  {
   "cell_type": "code",
   "execution_count": 41,
   "id": "943e998b-f66f-4477-86b6-421f66ddb5e6",
   "metadata": {
    "tags": []
   },
   "outputs": [],
   "source": [
    "df = nucl.get_DataFrame()"
   ]
  },
  {
   "cell_type": "code",
   "execution_count": 510,
   "id": "b7cdbb59-5c91-4748-85fb-46f1ed7c4b4a",
   "metadata": {
    "tags": []
   },
   "outputs": [],
   "source": [
    "u = mda.Universe(file.name)"
   ]
  },
  {
   "cell_type": "code",
   "execution_count": 480,
   "id": "bbf21d0b-649f-4b37-a026-d580cee10f77",
   "metadata": {
    "tags": []
   },
   "outputs": [
    {
     "data": {
      "text/plain": [
       "68.00000557862222"
      ]
     },
     "execution_count": 480,
     "metadata": {},
     "output_type": "execute_result"
    }
   ],
   "source": [
    "np.sum(u.select_atoms('protein').charges)"
   ]
  },
  {
   "cell_type": "code",
   "execution_count": 511,
   "id": "59c97600-eba9-4903-9750-f33c5a450a27",
   "metadata": {
    "tags": []
   },
   "outputs": [],
   "source": [
    "del file"
   ]
  },
  {
   "cell_type": "code",
   "execution_count": 459,
   "id": "c9355fd4-56d5-40a9-a90c-33c2fa728cba",
   "metadata": {
    "tags": []
   },
   "outputs": [],
   "source": [
    "import subprocess\n",
    "import tempfile"
   ]
  },
  {
   "cell_type": "code",
   "execution_count": 535,
   "id": "96353e2f-708b-4659-ab1f-49d0081e0e3e",
   "metadata": {
    "tags": []
   },
   "outputs": [],
   "source": [
    "file = tempfile.NamedTemporaryFile(suffix='.pqr')"
   ]
  },
  {
   "cell_type": "code",
   "execution_count": 536,
   "id": "59047803-60f7-4bdb-91f1-7888a33337b9",
   "metadata": {
    "tags": []
   },
   "outputs": [
    {
     "data": {
      "text/plain": [
       "'/tmp/tmpjqr4atqx.pqr'"
      ]
     },
     "execution_count": 536,
     "metadata": {},
     "output_type": "execute_result"
    }
   ],
   "source": [
    "file.name"
   ]
  },
  {
   "cell_type": "code",
   "execution_count": 537,
   "id": "b2160ed9-6d9e-4b29-a6f6-dd7bb78295be",
   "metadata": {
    "tags": []
   },
   "outputs": [],
   "source": [
    "process = subprocess.run(['pdb2pqr', '--ff=AMBER','--log-level=CRITICAL', '3lz0.pdb', file.name])"
   ]
  },
  {
   "cell_type": "code",
   "execution_count": null,
   "id": "c57bbfdc-2baa-4c09-91f8-a69540d46896",
   "metadata": {
    "tags": []
   },
   "outputs": [],
   "source": [
    "u.atoms.write(file.name)"
   ]
  },
  {
   "cell_type": "code",
   "execution_count": 542,
   "id": "5c1add0d-d895-47b5-9b48-09756a619188",
   "metadata": {
    "tags": []
   },
   "outputs": [
    {
     "data": {
      "text/plain": [
       "array([-0.20200001,  0.1       ,  0.52600002, ...,  0.0718    ,\n",
       "        0.0718    ,  0.43959999])"
      ]
     },
     "execution_count": 542,
     "metadata": {},
     "output_type": "execute_result"
    }
   ],
   "source": [
    "mda.Universe(file.name).atoms.charges"
   ]
  },
  {
   "cell_type": "code",
   "execution_count": 498,
   "id": "acf0879d-5523-441e-9ff0-ff42adcb1043",
   "metadata": {
    "tags": []
   },
   "outputs": [
    {
     "data": {
      "text/plain": [
       "<AtomGroup with 11902 atoms>"
      ]
     },
     "execution_count": 498,
     "metadata": {},
     "output_type": "execute_result"
    }
   ],
   "source": [
    "u.select_atoms('not type H')"
   ]
  },
  {
   "cell_type": "code",
   "execution_count": 499,
   "id": "434dbc4b-1b7a-4c74-a4d3-f3c6b2363fba",
   "metadata": {
    "tags": []
   },
   "outputs": [
    {
     "data": {
      "text/plain": [
       "<Universe with 11908 atoms>"
      ]
     },
     "execution_count": 499,
     "metadata": {},
     "output_type": "execute_result"
    }
   ],
   "source": [
    "nucl.u"
   ]
  },
  {
   "cell_type": "code",
   "execution_count": 516,
   "id": "c73eeca8-467d-4b72-b424-2002b6c38b83",
   "metadata": {
    "tags": []
   },
   "outputs": [
    {
     "data": {
      "text/plain": [
       "<AtomGroup with 21461 atoms>"
      ]
     },
     "execution_count": 516,
     "metadata": {},
     "output_type": "execute_result"
    }
   ],
   "source": [
    "u.atoms"
   ]
  },
  {
   "cell_type": "code",
   "execution_count": 517,
   "id": "d97f8e3a-70d8-41b3-969a-ffcd2d24d877",
   "metadata": {
    "tags": []
   },
   "outputs": [],
   "source": [
    "from os import path"
   ]
  },
  {
   "cell_type": "code",
   "execution_count": 521,
   "id": "8ea1e35a-fd47-4da0-8dc2-ce9b5cd480a1",
   "metadata": {},
   "outputs": [],
   "source": [
    "import os"
   ]
  },
  {
   "cell_type": "code",
   "execution_count": 522,
   "id": "43b7d10c-e0ce-4a52-88a7-7b516d8b9783",
   "metadata": {
    "tags": []
   },
   "outputs": [
    {
     "data": {
      "text/plain": [
       "'/home/_shared/_projects/2024_pynamod_update/package/PyNAMod'"
      ]
     },
     "execution_count": 522,
     "metadata": {},
     "output_type": "execute_result"
    }
   ],
   "source": [
    "os.getcwd()"
   ]
  },
  {
   "cell_type": "code",
   "execution_count": null,
   "id": "fb10d071-c9ce-4a1a-bc3b-4841b2a34493",
   "metadata": {},
   "outputs": [],
   "source": []
  }
 ],
 "metadata": {
  "kernelspec": {
   "display_name": ".conda-pynamod_new",
   "language": "python",
   "name": "conda-env-.conda-pynamod_new-py"
  },
  "language_info": {
   "codemirror_mode": {
    "name": "ipython",
    "version": 3
   },
   "file_extension": ".py",
   "mimetype": "text/x-python",
   "name": "python",
   "nbconvert_exporter": "python",
   "pygments_lexer": "ipython3",
   "version": "3.12.3"
  }
 },
 "nbformat": 4,
 "nbformat_minor": 5
}
