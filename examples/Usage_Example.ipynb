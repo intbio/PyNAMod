{
 "cells": [
  {
   "cell_type": "markdown",
   "id": "8f210608-e579-45b2-84f2-25f561688391",
   "metadata": {
    "tags": []
   },
   "source": [
    "![alt text](params.png \"Title\")"
   ]
  },
  {
   "cell_type": "code",
   "execution_count": 1,
   "id": "732bea3f-1955-47b9-b77f-4e79ce4724a3",
   "metadata": {
    "tags": []
   },
   "outputs": [
    {
     "name": "stderr",
     "output_type": "stream",
     "text": [
      "/home/v_vasilev/.conda/envs/pynamod_env/lib/python3.11/site-packages/ipywidgets/widgets/widget.py:503: DeprecationWarning: The `ipykernel.comm.Comm` class has been deprecated. Please use the `comm` module instead.For creating comms, use the function `from comm import create_comm`.\n",
      "  self.comm = Comm(**args)\n",
      "/home/v_vasilev/.conda/envs/pynamod_env/lib/python3.11/site-packages/ipywidgets/widgets/widget.py:503: DeprecationWarning: The `ipykernel.comm.Comm` class has been deprecated. Please use the `comm` module instead.For creating comms, use the function `from comm import create_comm`.\n",
      "  self.comm = Comm(**args)\n"
     ]
    },
    {
     "data": {
      "application/vnd.jupyter.widget-view+json": {
       "model_id": "f42dfb29bd6844f19a4bf8caa479d867",
       "version_major": 2,
       "version_minor": 0
      },
      "text/plain": []
     },
     "metadata": {},
     "output_type": "display_data"
    },
    {
     "name": "stderr",
     "output_type": "stream",
     "text": [
      "/home/v_vasilev/.conda/envs/pynamod_env/lib/python3.11/site-packages/Bio/Application/__init__.py:40: BiopythonDeprecationWarning: The Bio.Application modules and modules relying on it have been deprecated.\n",
      "\n",
      "Due to the on going maintenance burden of keeping command line application\n",
      "wrappers up to date, we have decided to deprecate and eventually remove these\n",
      "modules.\n",
      "\n",
      "We instead now recommend building your command line and invoking it directly\n",
      "with the subprocess module.\n",
      "  warnings.warn(\n",
      "/home/v_vasilev/.conda/envs/pynamod_env/lib/python3.11/site-packages/MDAnalysis/topology/PDBParser.py:331: UserWarning: Element information is missing, elements attribute will not be populated. If needed these can be guessed using MDAnalysis.topology.guessers.\n",
      "  warnings.warn(\"Element information is missing, elements attribute \"\n"
     ]
    }
   ],
   "source": [
    "import pynamod\n",
    "import torch\n",
    "import h5py\n",
    "from pynamod.geometry.trajectories import H5_Trajectory"
   ]
  },
  {
   "cell_type": "markdown",
   "id": "7abd52c7-00e3-410b-8186-cbf8357ae18d",
   "metadata": {},
   "source": [
    "### Анализ полноатомоных моделей"
   ]
  },
  {
   "cell_type": "code",
   "execution_count": 2,
   "id": "e2028ad1-8606-4d0e-835f-4fc5f9db7d03",
   "metadata": {
    "tags": []
   },
   "outputs": [],
   "source": [
    "import warnings\n",
    "warnings.filterwarnings('ignore')"
   ]
  },
  {
   "cell_type": "code",
   "execution_count": 3,
   "id": "241950f1-87aa-4a59-bebc-6dce3de31a0e",
   "metadata": {
    "tags": []
   },
   "outputs": [],
   "source": [
    "nucl = pynamod.CG_Structure()\n",
    "file = h5py.File('examples/Nucl_fiber.h5','r')\n",
    "nucl.load_from_h5(file)"
   ]
  },
  {
   "cell_type": "markdown",
   "id": "d1eedd53-27ab-47a8-8054-34bce3c9c469",
   "metadata": {},
   "source": [
    "Визуализация"
   ]
  },
  {
   "cell_type": "code",
   "execution_count": 4,
   "id": "39956d41-8128-4778-9f03-445494e912d0",
   "metadata": {
    "tags": []
   },
   "outputs": [
    {
     "data": {
      "application/vnd.jupyter.widget-view+json": {
       "model_id": "99eae4e8e29f4804adb175b34f400ecf",
       "version_major": 2,
       "version_minor": 0
      },
      "text/plain": [
       "NGLWidget()"
      ]
     },
     "metadata": {},
     "output_type": "display_data"
    }
   ],
   "source": [
    "nucl.view_structure()"
   ]
  },
  {
   "cell_type": "markdown",
   "id": "51c5fd44-b472-48ff-97a0-7a29fd56880e",
   "metadata": {
    "tags": []
   },
   "source": [
    "### Генерация линейной ДНК"
   ]
  },
  {
   "cell_type": "code",
   "execution_count": 5,
   "id": "d48bd311-9481-4b38-b6db-f598d2d8a55b",
   "metadata": {},
   "outputs": [],
   "source": [
    "seq = 'atcg'*4\n",
    "dna_gen = pynamod.CG_Structure()\n",
    "dna_gen.build_dna(seq)"
   ]
  },
  {
   "cell_type": "code",
   "execution_count": 6,
   "id": "626145aa-dd86-4f28-a4f6-04a38d603b54",
   "metadata": {
    "tags": []
   },
   "outputs": [
    {
     "data": {
      "application/vnd.jupyter.widget-view+json": {
       "model_id": "a7610c9b0883485fa1c99fb338600699",
       "version_major": 2,
       "version_minor": 0
      },
      "text/plain": [
       "NGLWidget()"
      ]
     },
     "metadata": {},
     "output_type": "display_data"
    }
   ],
   "source": [
    "dna_gen.view_structure()\n"
   ]
  },
  {
   "cell_type": "markdown",
   "id": "0469e816-f8df-44e6-9d2e-96317f6934ec",
   "metadata": {},
   "source": [
    "### Объединение структур"
   ]
  },
  {
   "cell_type": "markdown",
   "id": "589bc9cc-caeb-4a96-9bc2-b101ebef335d",
   "metadata": {},
   "source": [
    "Инициализация стурктуры с белком cas9"
   ]
  },
  {
   "cell_type": "code",
   "execution_count": 7,
   "id": "68912c83-d4dc-4e34-b152-336368e4c40b",
   "metadata": {
    "tags": []
   },
   "outputs": [
    {
     "name": "stdout",
     "output_type": "stream",
     "text": [
      "Sending GET request to https://files.rcsb.org/download/5Y36.pdb to fetch 5Y36's pdb file as a string.\n"
     ]
    }
   ],
   "source": [
    "cas = pynamod.CG_Structure(pdb_id='5Y36')\n",
    "cas.analyze_dna(leading_strands=['C'],sel='segid C D')"
   ]
  },
  {
   "cell_type": "code",
   "execution_count": 8,
   "id": "8008f220-033f-4b75-9fb0-a22bb402b517",
   "metadata": {
    "tags": []
   },
   "outputs": [],
   "source": [
    "cas.analyze_protein()"
   ]
  },
  {
   "cell_type": "code",
   "execution_count": 9,
   "id": "f1dbc03f-bdce-4b9c-803c-08de4620090e",
   "metadata": {
    "tags": []
   },
   "outputs": [
    {
     "data": {
      "application/vnd.jupyter.widget-view+json": {
       "model_id": "516e407b451844a8ac125974395b5ee3",
       "version_major": 2,
       "version_minor": 0
      },
      "text/plain": [
       "NGLWidget()"
      ]
     },
     "metadata": {},
     "output_type": "display_data"
    }
   ],
   "source": [
    "cas.view_structure()"
   ]
  },
  {
   "cell_type": "markdown",
   "id": "9f077a22-4878-43f8-a459-a8d2e60f8d6e",
   "metadata": {
    "tags": []
   },
   "source": [
    "Объединение с нуклеосомой и линейной ДНК"
   ]
  },
  {
   "cell_type": "code",
   "execution_count": 10,
   "id": "63bd2914-b57f-4c72-b5df-a667c585fc2f",
   "metadata": {
    "tags": []
   },
   "outputs": [
    {
     "data": {
      "text/plain": [
       "<pynamod.structures.CG_structure.CG_Structure at 0x7f3d145fa910>"
      ]
     },
     "execution_count": 10,
     "metadata": {},
     "output_type": "execute_result"
    }
   ],
   "source": [
    "nucl.append_structures([dna_gen,cas])"
   ]
  },
  {
   "cell_type": "code",
   "execution_count": 11,
   "id": "5fbc6526-c629-41e7-8f37-8d8410fa65a8",
   "metadata": {
    "tags": []
   },
   "outputs": [
    {
     "data": {
      "application/vnd.jupyter.widget-view+json": {
       "model_id": "df04d26ff18c4410af079911ee704f29",
       "version_major": 2,
       "version_minor": 0
      },
      "text/plain": [
       "NGLWidget()"
      ]
     },
     "metadata": {},
     "output_type": "display_data"
    }
   ],
   "source": [
    "nucl.view_structure()"
   ]
  },
  {
   "cell_type": "markdown",
   "id": "9cb95899-b50e-423a-b4bb-a5b6b85128fd",
   "metadata": {},
   "source": [
    "### Моделирование методом Монте-Карло"
   ]
  },
  {
   "cell_type": "markdown",
   "id": "e90a302f-11a3-40aa-ba70-91ba8521cfb7",
   "metadata": {},
   "source": [
    "Подготовка расчетов энергий"
   ]
  },
  {
   "cell_type": "code",
   "execution_count": 12,
   "id": "d52c33e6-4428-4673-847b-a7d91409cb57",
   "metadata": {
    "tags": []
   },
   "outputs": [],
   "source": [
    "en = pynamod.Energy(K_bend=1)\n",
    "en.set_energy_matrices(nucl,ignore_neighbors=20)"
   ]
  },
  {
   "cell_type": "code",
   "execution_count": 13,
   "id": "6d59c69f-9493-48d1-9415-af678b27a39f",
   "metadata": {
    "tags": []
   },
   "outputs": [],
   "source": [
    "movable_steps = torch.zeros(nucl.dna.step_params.shape[0],dtype=bool)\n",
    "movable_steps[145:161] = True"
   ]
  },
  {
   "cell_type": "code",
   "execution_count": 14,
   "id": "c9df418a-7aa3-4ac8-9912-d809b114ab1c",
   "metadata": {
    "tags": []
   },
   "outputs": [],
   "source": [
    "traj = H5_Trajectory('examples/example_traj.h5',100,182,200,attrs_names=['prot_origins'])"
   ]
  },
  {
   "cell_type": "markdown",
   "id": "6ee254f9-bf4c-4f3c-973c-7e098c7c8f30",
   "metadata": {},
   "source": [
    "Запуск моделирования"
   ]
  },
  {
   "cell_type": "code",
   "execution_count": 15,
   "id": "c8521545-a0d7-4732-a007-bf01b729a345",
   "metadata": {
    "tags": []
   },
   "outputs": [],
   "source": [
    "intg = pynamod.Iterator(nucl,en,traj,sigma_rot=0.1,sigma_transl=0.1)"
   ]
  },
  {
   "cell_type": "code",
   "execution_count": 16,
   "id": "9ab6bdb8-041d-4e41-b086-a035a16378cd",
   "metadata": {
    "tags": []
   },
   "outputs": [
    {
     "data": {
      "application/vnd.jupyter.widget-view+json": {
       "model_id": "f9bdfc9fbc6e4ddf9b5a774ea86be070",
       "version_major": 2,
       "version_minor": 0
      },
      "text/plain": [
       "Steps:   0%|          | 0/10000 [00:00<?, ?it/s]"
      ]
     },
     "metadata": {},
     "output_type": "display_data"
    },
    {
     "data": {
      "application/vnd.jupyter.widget-view+json": {
       "model_id": "e562dc1a57f442b0ab55ad83ee7c6848",
       "version_major": 2,
       "version_minor": 0
      },
      "text/plain": [
       "Acceptance rate:   0%|          "
      ]
     },
     "metadata": {},
     "output_type": "display_data"
    },
    {
     "name": "stdout",
     "output_type": "stream",
     "text": [
      "Starting time: 04/21/25 16:19:04\n",
      "target accepted steps reached\n",
      "Finish time: 04/21/25 16:19:14\n",
      "accepted steps: 1000\n",
      "total steps: 1208\n"
     ]
    }
   ],
   "source": [
    "intg.run(movable_steps,target_accepted_steps=1000,max_steps=10000,device='cuda',KT_factor=1.5,save_every=1,transfer_to_memory_every=100)"
   ]
  },
  {
   "cell_type": "code",
   "execution_count": 17,
   "id": "48c36ec2-2c78-4df5-b1ee-099e8ea27b65",
   "metadata": {
    "tags": []
   },
   "outputs": [],
   "source": [
    "nucl.dna.geom_params.trajectory = traj"
   ]
  },
  {
   "cell_type": "code",
   "execution_count": 18,
   "id": "251a1965-8f1a-4bf7-add5-f2389a38d1c9",
   "metadata": {
    "tags": []
   },
   "outputs": [],
   "source": [
    "u = nucl.get_cg_mda_traj()"
   ]
  },
  {
   "cell_type": "code",
   "execution_count": 19,
   "id": "248b692f-dd46-47cb-8d45-da6e1fa29cbe",
   "metadata": {
    "tags": []
   },
   "outputs": [
    {
     "data": {
      "application/vnd.jupyter.widget-view+json": {
       "model_id": "cdf1c3bbd91e437f9b37609b1c72c3bc",
       "version_major": 2,
       "version_minor": 0
      },
      "text/plain": [
       "NGLWidget(max_frame=1099)"
      ]
     },
     "metadata": {},
     "output_type": "display_data"
    }
   ],
   "source": [
    "import nglview as nv\n",
    "v = nv.show_mdanalysis(u)\n",
    "v.clear()\n",
    "v.add_representation('spacefill',radius =5)\n",
    "v"
   ]
  },
  {
   "cell_type": "code",
   "execution_count": 20,
   "id": "e65b154e-c685-4fc1-9484-9e94acb8c7f1",
   "metadata": {
    "tags": []
   },
   "outputs": [],
   "source": [
    "import matplotlib.pyplot as plt"
   ]
  },
  {
   "cell_type": "code",
   "execution_count": 21,
   "id": "da3c58af-df6b-4e83-b18e-c19bd2b425ee",
   "metadata": {
    "tags": []
   },
   "outputs": [
    {
     "data": {
      "text/plain": [
       "<matplotlib.legend.Legend at 0x7f3ca5d7a710>"
      ]
     },
     "execution_count": 21,
     "metadata": {},
     "output_type": "execute_result"
    },
    {
     "data": {
      "image/png": "[encoded data removed]",
      "text/plain": [
       "<Figure size 640x480 with 1 Axes>"
      ]
     },
     "metadata": {},
     "output_type": "display_data"
    }
   ],
   "source": [
    "sl = slice(0,None,1)\n",
    "plt.plot(traj.get_energy_array_slice('total',sl),label='полная')\n",
    "plt.plot(traj.get_energy_array_slice('ld',sl),label='ЛД')\n",
    "plt.plot(traj.get_energy_array_slice('elst',sl),label='электрост.')\n",
    "plt.plot(traj.get_energy_array_slice('bend',sl),label='изгибная')\n",
    "plt.plot(traj.get_energy_array_slice('restr',sl),label='внешняя')\n",
    "plt.xlabel('кадр')\n",
    "plt.ylabel('кДж/моль', rotation=0,loc='top')\n",
    "plt.legend()"
   ]
  },
  {
   "cell_type": "code",
   "execution_count": 22,
   "id": "cccd4cea-aeb7-48a8-8469-d5032f53c4f0",
   "metadata": {
    "tags": []
   },
   "outputs": [
    {
     "data": {
      "text/plain": [
       "array([144112.70694726, 144111.83960494, 144114.04003081, ...,\n",
       "       144149.50698113, 144150.00354239, 144151.32998678])"
      ]
     },
     "execution_count": 22,
     "metadata": {},
     "output_type": "execute_result"
    }
   ],
   "source": [
    "traj.total_energies"
   ]
  },
  {
   "cell_type": "code",
   "execution_count": null,
   "id": "d37488e7-bf9b-4857-a720-54e37de83da4",
   "metadata": {},
   "outputs": [],
   "source": []
  }
 ],
 "metadata": {
  "kernelspec": {
   "display_name": ".conda-pynamod_env",
   "language": "python",
   "name": "conda-env-.conda-pynamod_env-py"
  },
  "language_info": {
   "codemirror_mode": {
    "name": "ipython",
    "version": 3
   },
   "file_extension": ".py",
   "mimetype": "text/x-python",
   "name": "python",
   "nbconvert_exporter": "python",
   "pygments_lexer": "ipython3",
   "version": "3.11.9"
  }
 },
 "nbformat": 4,
 "nbformat_minor": 5
}
