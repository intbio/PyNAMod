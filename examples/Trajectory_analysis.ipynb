{
 "cells": [
  {
   "cell_type": "code",
   "execution_count": 23,
   "id": "349b1eef-a6c3-4a21-8498-b0e9a1357dbb",
   "metadata": {},
   "outputs": [],
   "source": [
    "import pynamod\n",
    "import MDAnalysis as mda\n",
    "\n",
    "import warnings\n",
    "warnings.filterwarnings('ignore')"
   ]
  },
  {
   "cell_type": "code",
   "execution_count": 25,
   "id": "ed45e1ab-40c9-4c81-814f-03a325c83e13",
   "metadata": {
    "tags": []
   },
   "outputs": [],
   "source": [
    "u = mda.Universe('wt_for_web.pdb','wt_for_web.xtc')"
   ]
  },
  {
   "cell_type": "code",
   "execution_count": 26,
   "id": "50b77a55-fdb1-4413-876c-100a9a7c6c3a",
   "metadata": {
    "tags": []
   },
   "outputs": [],
   "source": [
    "nucl = pynamod.CG_Structure(mdaUniverse=u)"
   ]
  },
  {
   "cell_type": "code",
   "execution_count": 27,
   "id": "32862455-eecd-478e-be30-38d078689e03",
   "metadata": {
    "tags": []
   },
   "outputs": [
    {
     "data": {
      "application/vnd.jupyter.widget-view+json": {
       "model_id": "d62a6fb23cd54b51971afd02ff1c5e66",
       "version_major": 2,
       "version_minor": 0
      },
      "text/plain": [
       "  0%|          | 0/100 [00:00<?, ?it/s]"
      ]
     },
     "metadata": {},
     "output_type": "display_data"
    }
   ],
   "source": [
    "#If trajectory is None trajectory starting from frame 1 is analysed (frame 0 is analysed at initial step)\n",
    "nucl.analyze_dna(leading_strands=['I'],trajectory = u.trajectory[::2])"
   ]
  },
  {
   "cell_type": "code",
   "execution_count": 28,
   "id": "ae466714-1252-4120-8b80-b388cf45eb4c",
   "metadata": {
    "tags": []
   },
   "outputs": [],
   "source": [
    "en = pynamod.Energy(K_bend=1)\n",
    "en.set_energy_matrices(nucl)"
   ]
  },
  {
   "cell_type": "code",
   "execution_count": 29,
   "id": "d2b4712d-86f5-4d90-ba50-6d05417a0e85",
   "metadata": {
    "tags": []
   },
   "outputs": [],
   "source": [
    "bend_e = []\n",
    "for ts in nucl.dna.trajectory:\n",
    "    # components order: Bend energy, electrostatic, Lennard Jones, external potenials\n",
    "    bend_e.append(en.get_energy_components(nucl.dna.geom_params)[0])"
   ]
  },
  {
   "cell_type": "code",
   "execution_count": 30,
   "id": "3ad08b41-2518-415b-8e2a-fddd7657f503",
   "metadata": {
    "tags": []
   },
   "outputs": [
    {
     "data": {
      "text/plain": [
       "[mod_Tensor(6584.1239, dtype=torch.float64),\n",
       " mod_Tensor(6584.1239, dtype=torch.float64),\n",
       " mod_Tensor(6253.9170, dtype=torch.float64),\n",
       " mod_Tensor(6384.7387, dtype=torch.float64),\n",
       " mod_Tensor(6918.4499, dtype=torch.float64),\n",
       " mod_Tensor(6990.1723, dtype=torch.float64),\n",
       " mod_Tensor(9297.1100, dtype=torch.float64),\n",
       " mod_Tensor(12457.3836, dtype=torch.float64),\n",
       " mod_Tensor(9121.5476, dtype=torch.float64),\n",
       " mod_Tensor(9217.5999, dtype=torch.float64),\n",
       " mod_Tensor(9633.4364, dtype=torch.float64),\n",
       " mod_Tensor(9642.7510, dtype=torch.float64),\n",
       " mod_Tensor(11031.6599, dtype=torch.float64),\n",
       " mod_Tensor(9712.6902, dtype=torch.float64),\n",
       " mod_Tensor(11194.2680, dtype=torch.float64),\n",
       " mod_Tensor(17152.7907, dtype=torch.float64),\n",
       " mod_Tensor(17135.7571, dtype=torch.float64),\n",
       " mod_Tensor(17694.8236, dtype=torch.float64),\n",
       " mod_Tensor(19225.8130, dtype=torch.float64),\n",
       " mod_Tensor(17062.3761, dtype=torch.float64),\n",
       " mod_Tensor(16224.3281, dtype=torch.float64),\n",
       " mod_Tensor(15307.2116, dtype=torch.float64),\n",
       " mod_Tensor(16467.1803, dtype=torch.float64),\n",
       " mod_Tensor(14128.6434, dtype=torch.float64),\n",
       " mod_Tensor(18328.6255, dtype=torch.float64),\n",
       " mod_Tensor(19295.9331, dtype=torch.float64),\n",
       " mod_Tensor(18959.7010, dtype=torch.float64)]"
      ]
     },
     "execution_count": 30,
     "metadata": {},
     "output_type": "execute_result"
    }
   ],
   "source": [
    "bend_e"
   ]
  },
  {
   "cell_type": "code",
   "execution_count": null,
   "id": "b396f116-adaf-49a4-9ba1-ab54bbfdc846",
   "metadata": {},
   "outputs": [],
   "source": []
  }
 ],
 "metadata": {
  "kernelspec": {
   "display_name": ".conda-pynamod_env",
   "language": "python",
   "name": "conda-env-.conda-pynamod_env-py"
  },
  "language_info": {
   "codemirror_mode": {
    "name": "ipython",
    "version": 3
   },
   "file_extension": ".py",
   "mimetype": "text/x-python",
   "name": "python",
   "nbconvert_exporter": "python",
   "pygments_lexer": "ipython3",
   "version": "3.11.9"
  }
 },
 "nbformat": 4,
 "nbformat_minor": 5
}
